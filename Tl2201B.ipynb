{
 "cells": [
  {
   "cell_type": "markdown",
   "id": "da6b3331-2378-48d2-8e81-c54a75059d01",
   "metadata": {},
   "source": [
    "INITIALIZE:"
   ]
  },
  {
   "cell_type": "code",
   "execution_count": 2,
   "id": "05106baa-da3e-4aa7-bbc6-690ec7e318e0",
   "metadata": {},
   "outputs": [],
   "source": [
    "import numpy as np\n",
    "import matplotlib.pyplot as plt\n",
    "import scipy\n",
    "import scipy.interpolate as interpolate\n",
    "import time"
   ]
  },
  {
   "cell_type": "markdown",
   "id": "4762ffd1-6886-4bf2-b761-6acf2ae91e5f",
   "metadata": {},
   "source": [
    "PARAMETERS/INITIAL ARRAYS:"
   ]
  },
  {
   "cell_type": "code",
   "execution_count": 4,
   "id": "a28dd52f-43d6-45f0-a3e9-2d5a4a9e056b",
   "metadata": {},
   "outputs": [],
   "source": [
    "t=1\n",
    "tp=-0.237\n",
    "tpp=0.138\n",
    "\n",
    "k1=92\n",
    "k2=92\n",
    "Nexp=12\n",
    "D=50"
   ]
  },
  {
   "cell_type": "code",
   "execution_count": 5,
   "id": "9bfc148a-b5da-437b-82a0-864bdb12baed",
   "metadata": {},
   "outputs": [],
   "source": [
    "temparray=[0.0076628, 0.0086207, 0.0095785, 0.0105364 , 0.0114943, 0.0124521, 0.0134100, 0.0143678, 0.0153257, 0.0162835, 0.0172414, 0.0181992, 0.0191571, 0.0201149, 0.0210728, 0.0220307, 0.0229885, 0.0239464, 0.0249042, 0.0258621, 0.0268199, 0.0277778, 0.0287356, 0.0296935, 0.0306513, 0.0316092, 0.0325670, 0.0335349, 0.0344828, 0.0354406, 0.0363985, 0.0373563, 0.0383142, 0.0402299, 0.0421456, 0.0440613, 0.0459770, 0.0478927, 0.0498084, 0.0517241, 0.0536398, 0.0555556, 0.0574713, 0.0593870, 0.0613027, 0.0632184, 0.0651341, 0.0670498, 0.0689655, 0.0708812, 0.0727969, 0.0747126, 0.0766284]\n",
    "tempnames=[('%.4f' %temp) for temp in temparray];"
   ]
  },
  {
   "cell_type": "code",
   "execution_count": 6,
   "id": "ca627b59-1205-4888-9dba-f5cdd9fd899c",
   "metadata": {},
   "outputs": [],
   "source": [
    "sizev=2**Nexp \n",
    "sizee=k1*k2\n",
    "sizek=k1\n",
    "\n",
    "krange=np.linspace(0,2*np.pi-(2*np.pi/sizek),sizek)\n",
    "vrange=np.linspace(-D,D-((2*D)/sizev),sizev) \n",
    "\n",
    "finalk1=np.zeros(k1*k2*(2**Nexp)).tolist()\n",
    "finalk2=np.zeros(k1*k2*(2**Nexp)).tolist()\n",
    "finalv=np.zeros(k1*k2*(2**Nexp)).tolist()\n",
    "for i in range(sizek):            \n",
    "    for j in range(sizek):\n",
    "        for k in range(sizev):  \n",
    "            m=k+sizev*(j+sizek*i)      \n",
    "            finalk1[m]=krange[i]\n",
    "            finalk2[m]=krange[j]\n",
    "            finalv[m]=vrange[k]"
   ]
  },
  {
   "cell_type": "markdown",
   "id": "eb62ca5c-6bf3-47d7-888c-cfc49c75b084",
   "metadata": {},
   "source": [
    "\n",
    "\n",
    "IMPORTS:"
   ]
  },
  {
   "cell_type": "code",
   "execution_count": 8,
   "id": "24c46387-904e-4547-b58f-fc5643eb2529",
   "metadata": {},
   "outputs": [],
   "source": [
    "lists = []\n",
    "with open('700Bdata.txt', 'r') as f:\n",
    "    contents = f.read().split('\\n---\\n') \n",
    "    for list_section in contents:\n",
    "        if list_section.strip():\n",
    "            array_list = []\n",
    "            lines = list_section.splitlines()\n",
    "            for line in lines:\n",
    "                if not line.strip() or line.startswith(\"List\") or line.startswith(\"Array\"):\n",
    "                    continue\n",
    "                array_list.append(np.fromstring(line, sep=' ', dtype=float))\n",
    "            lists.append(array_list)\n",
    "\n",
    "coeffRHOSYM700B = [[arr[0:5] for arr in sublist] for sublist in lists]\n",
    "coeffRHOASYM700B = [[arr[5:10] for arr in sublist] for sublist in lists]\n",
    "coeffRESYM700B = [[arr[10:16] for arr in sublist] for sublist in lists]\n",
    "coeffREASYM700B = [[arr[16:21] for arr in sublist] for sublist in lists]\n",
    "y0RHO700B = [[arr[21:22] for arr in sublist] for sublist in lists]\n",
    "y0RE700B = [[arr[22:23] for arr in sublist] for sublist in lists]\n",
    "mu700B = [[arr[23:24] for arr in sublist] for sublist in lists]\n",
    "\n",
    "del lists"
   ]
  },
  {
   "cell_type": "code",
   "execution_count": 9,
   "id": "ce5e6d77-1469-46fe-aa11-19b8d37a75dd",
   "metadata": {},
   "outputs": [],
   "source": [
    "lists = []\n",
    "with open('726Bdata.txt', 'r') as f:\n",
    "    contents = f.read().split('\\n---\\n')  \n",
    "    for list_section in contents:\n",
    "        if list_section.strip():  \n",
    "            array_list = []\n",
    "            lines = list_section.splitlines()\n",
    "            for line in lines:\n",
    "                if not line.strip() or line.startswith(\"List\") or line.startswith(\"Array\"):\n",
    "                    continue\n",
    "                array_list.append(np.fromstring(line, sep=' ', dtype=float))\n",
    "            lists.append(array_list)\n",
    "\n",
    "coeffRHOSYM726B = [[arr[0:5] for arr in sublist] for sublist in lists]\n",
    "coeffRHOASYM726B = [[arr[5:10] for arr in sublist] for sublist in lists]\n",
    "coeffRESYM726B = [[arr[10:16] for arr in sublist] for sublist in lists]\n",
    "coeffREASYM726B = [[arr[16:21] for arr in sublist] for sublist in lists]\n",
    "y0RHO726B = [[arr[21:22] for arr in sublist] for sublist in lists]\n",
    "y0RE726B = [[arr[22:23] for arr in sublist] for sublist in lists]\n",
    "mu726B = [[arr[23:24] for arr in sublist] for sublist in lists]\n",
    "\n",
    "del lists"
   ]
  },
  {
   "cell_type": "code",
   "execution_count": 10,
   "id": "90661a28-c957-4890-8227-bf6ef72b8541",
   "metadata": {},
   "outputs": [],
   "source": [
    "lists = []\n",
    "with open('744Bdata.txt', 'r') as f:\n",
    "    contents = f.read().split('\\n---\\n')  \n",
    "    for list_section in contents:\n",
    "        if list_section.strip():  \n",
    "            array_list = []\n",
    "            lines = list_section.splitlines()\n",
    "            for line in lines:\n",
    "                if not line.strip() or line.startswith(\"List\") or line.startswith(\"Array\"):\n",
    "                    continue\n",
    "                array_list.append(np.fromstring(line, sep=' ', dtype=float))\n",
    "            lists.append(array_list)\n",
    "\n",
    "coeffRHOSYM744B = [[arr[0:5] for arr in sublist] for sublist in lists]\n",
    "coeffRHOASYM744B = [[arr[5:10] for arr in sublist] for sublist in lists]\n",
    "coeffRESYM744B = [[arr[10:16] for arr in sublist] for sublist in lists]\n",
    "coeffREASYM744B = [[arr[16:21] for arr in sublist] for sublist in lists]\n",
    "y0RHO744B = [[arr[21:22] for arr in sublist] for sublist in lists]\n",
    "y0RE744B = [[arr[22:23] for arr in sublist] for sublist in lists]\n",
    "mu744B = [[arr[23:24] for arr in sublist] for sublist in lists]\n",
    "\n",
    "del lists"
   ]
  },
  {
   "cell_type": "code",
   "execution_count": 11,
   "id": "29879657-d9a0-4229-9d47-56eb6b4ee299",
   "metadata": {},
   "outputs": [],
   "source": [
    "lists = []\n",
    "with open('773Bdata.txt', 'r') as f:\n",
    "    contents = f.read().split('\\n---\\n')  \n",
    "    for list_section in contents:\n",
    "        if list_section.strip():  \n",
    "            array_list = []\n",
    "            lines = list_section.splitlines()\n",
    "            for line in lines:\n",
    "                if not line.strip() or line.startswith(\"List\") or line.startswith(\"Array\"):\n",
    "                    continue\n",
    "                array_list.append(np.fromstring(line, sep=' ', dtype=float))\n",
    "            lists.append(array_list)\n",
    "\n",
    "coeffRHOSYM773B = [[arr[0:5] for arr in sublist] for sublist in lists]\n",
    "coeffRHOASYM773B = [[arr[5:10] for arr in sublist] for sublist in lists]\n",
    "coeffRESYM773B = [[arr[10:16] for arr in sublist] for sublist in lists]\n",
    "coeffREASYM773B = [[arr[16:21] for arr in sublist] for sublist in lists]\n",
    "y0RHO773B = [[arr[21:22] for arr in sublist] for sublist in lists]\n",
    "y0RE773B = [[arr[22:23] for arr in sublist] for sublist in lists]\n",
    "mu773B = [[arr[23:24] for arr in sublist] for sublist in lists]\n",
    "\n",
    "del lists"
   ]
  },
  {
   "cell_type": "code",
   "execution_count": 12,
   "id": "5bb95fe9-6cc5-457c-8c5f-c8e2300617a7",
   "metadata": {},
   "outputs": [],
   "source": [
    "lists = []\n",
    "with open('817Bdata.txt', 'r') as f:\n",
    "    contents = f.read().split('\\n---\\n')  \n",
    "    for list_section in contents:\n",
    "        if list_section.strip():  \n",
    "            array_list = []\n",
    "            lines = list_section.splitlines()\n",
    "            for line in lines:\n",
    "                if not line.strip() or line.startswith(\"List\") or line.startswith(\"Array\"):\n",
    "                    continue\n",
    "                array_list.append(np.fromstring(line, sep=' ', dtype=float))\n",
    "            lists.append(array_list)\n",
    "\n",
    "coeffRHOSYM817B = [[arr[0:5] for arr in sublist] for sublist in lists]\n",
    "coeffRHOASYM817B = [[arr[5:10] for arr in sublist] for sublist in lists]\n",
    "coeffRESYM817B = [[arr[10:16] for arr in sublist] for sublist in lists]\n",
    "coeffREASYM817B = [[arr[16:21] for arr in sublist] for sublist in lists]\n",
    "y0RHO817B = [[arr[21:22] for arr in sublist] for sublist in lists]\n",
    "y0RE817B = [[arr[22:23] for arr in sublist] for sublist in lists]\n",
    "mu817B = [[arr[23:24] for arr in sublist] for sublist in lists]\n",
    "\n",
    "del lists"
   ]
  },
  {
   "cell_type": "code",
   "execution_count": 13,
   "id": "bb259c1f-47e4-47dc-89b9-5809e5a63505",
   "metadata": {},
   "outputs": [],
   "source": [
    "lists = []\n",
    "with open('850Bdata.txt', 'r') as f:\n",
    "    contents = f.read().split('\\n---\\n')  \n",
    "    for list_section in contents:\n",
    "        if list_section.strip():  \n",
    "            array_list = []\n",
    "            lines = list_section.splitlines()\n",
    "            for line in lines:\n",
    "                if not line.strip() or line.startswith(\"List\") or line.startswith(\"Array\"):\n",
    "                    continue\n",
    "                array_list.append(np.fromstring(line, sep=' ', dtype=float))\n",
    "            lists.append(array_list)\n",
    "\n",
    "coeffRHOSYM850B = [[arr[0:5] for arr in sublist] for sublist in lists]\n",
    "coeffRHOASYM850B = [[arr[5:10] for arr in sublist] for sublist in lists]\n",
    "coeffRESYM850B = [[arr[10:16] for arr in sublist] for sublist in lists]\n",
    "coeffREASYM850B = [[arr[16:21] for arr in sublist] for sublist in lists]\n",
    "y0RHO850B = [[arr[21:22] for arr in sublist] for sublist in lists]\n",
    "y0RE850B = [[arr[22:23] for arr in sublist] for sublist in lists]\n",
    "mu850B = [[arr[23:24] for arr in sublist] for sublist in lists]\n",
    "\n",
    "del lists"
   ]
  },
  {
   "cell_type": "markdown",
   "id": "53e62813-e871-400b-9e87-2e26aca4ef10",
   "metadata": {},
   "source": [
    "\n",
    "\n",
    "MAKE POLYNOMIALS FROM IMPORT DATA:"
   ]
  },
  {
   "cell_type": "code",
   "execution_count": 15,
   "id": "68fabd41-1b8d-4589-b216-e40a1f438e4b",
   "metadata": {},
   "outputs": [],
   "source": [
    "# Polynomials were fit over a small range in the center of the frequency domain (where most of the spectral weight is concentrated)\n",
    "\n",
    "omeganew=[finalv[int((2**12)*i+int((2**12-1)/2)-20):int((2**12)*i+int((2**12-1)/2)+23)] for i in range(k1*k2)]\n",
    "k1new=[finalk1[int((2**12)*i+int((2**12-1)/2)-20):int((2**12)*i+int((2**12-1)/2)+23)] for i in range(k1*k2)]\n",
    "k2new=[finalk2[int((2**12)*i+int((2**12-1)/2)-20):int((2**12)*i+int((2**12-1)/2)+23)] for i in range(k1*k2)]\n",
    "\n",
    "# scaled for numerical stability, scaled back later\n",
    "omegac=0.04\n",
    "x=np.array(omeganew[0])/omegac"
   ]
  },
  {
   "cell_type": "code",
   "execution_count": 16,
   "id": "6ea54a0e-941a-47e1-baa9-848a5a466f3b",
   "metadata": {},
   "outputs": [],
   "source": [
    "def p9(x, b, d, f, h, j): \n",
    "    return b*x + d*x**3 + f*x**5 + h*x**7 + j*x**9\n",
    "\n",
    "def p10(x, c, e, g, i, n): \n",
    "    return (c*x**2 + e*x**4 + g*x**6 + i*x**8 + n*x**10)\n",
    "\n",
    "def pwithe(x, a, c, e, g, n,m ): \n",
    "    return np.exp(-a*x**2)*(c*x**2 + e*x**4 + g*x**6 + n*x**8 + m*x**10)"
   ]
  },
  {
   "cell_type": "code",
   "execution_count": 17,
   "id": "438957ee-6266-4bb7-99ca-380f61f7eaab",
   "metadata": {},
   "outputs": [
    {
     "name": "stdout",
     "output_type": "stream",
     "text": [
      "62.18207287788391\n"
     ]
    }
   ],
   "source": [
    "start_time = time.time()\n",
    "# should take a minute or two each\n",
    "\n",
    "fitRHOSYM700B=[]\n",
    "fitRHOASYM700B=[]\n",
    "fitRESYM700B=[]\n",
    "fitREASYM700B=[]\n",
    "\n",
    "for i in range(len(temparray)):\n",
    "    fitrhosym=[]\n",
    "    fitresym=[]\n",
    "    fitrhoasym=[]\n",
    "    fitreasym=[]\n",
    "    for j in range(k1*k2):\n",
    "        coeff=coeffRHOSYM700B[i][j]\n",
    "        \n",
    "        fitrhosym.append(p10(x, *coeff).tolist())\n",
    "        coeff=coeffRESYM700B[i][j]\n",
    "        \n",
    "        fitresym.append(pwithe(x, *coeff).tolist())\n",
    "        coeff=coeffRHOASYM700B[i][j]\n",
    "        fitrhoasym.append(p9(x, *coeff).tolist())\n",
    "        \n",
    "        coeff=coeffREASYM700B[i][j]\n",
    "        fitreasym.append(p9(x, *coeff).tolist())\n",
    "        \n",
    "    fitRHOSYM700B.append(fitrhosym)\n",
    "    fitRHOASYM700B.append(fitrhoasym)\n",
    "    fitRESYM700B.append(fitresym)\n",
    "    fitREASYM700B.append(fitreasym)\n",
    "    \n",
    "end_time = time.time()\n",
    "elapsed_time = end_time - start_time\n",
    "print(elapsed_time) # in seconds"
   ]
  },
  {
   "cell_type": "code",
   "execution_count": 18,
   "id": "6d126f0b-f09c-4ccc-a9c6-719bab9273eb",
   "metadata": {},
   "outputs": [
    {
     "name": "stdout",
     "output_type": "stream",
     "text": [
      "53.036073207855225\n"
     ]
    }
   ],
   "source": [
    "start_time = time.time()\n",
    "\n",
    "fitRHOSYM726B=[]\n",
    "fitRHOASYM726B=[]\n",
    "fitRESYM726B=[]\n",
    "fitREASYM726B=[]\n",
    "\n",
    "# .726 was not able to run quite as low as the others, so data on the second temperature\n",
    "for i in range(len(temparray[1:])):\n",
    "    fitrhosym=[]\n",
    "    fitresym=[]\n",
    "    fitrhoasym=[]\n",
    "    fitreasym=[]\n",
    "    for j in range(k1*k2):\n",
    "        coeff=coeffRHOSYM726B[i][j]\n",
    "        \n",
    "        fitrhosym.append(p10(x, *coeff).tolist())\n",
    "        coeff=coeffRESYM726B[i][j]\n",
    "        \n",
    "        fitresym.append(pwithe(x, *coeff).tolist())\n",
    "        coeff=coeffRHOASYM726B[i][j]\n",
    "        fitrhoasym.append(p9(x, *coeff).tolist())\n",
    "        \n",
    "        coeff=coeffREASYM726B[i][j]\n",
    "        fitreasym.append(p9(x, *coeff).tolist())\n",
    "        \n",
    "    fitRHOSYM726B.append(fitrhosym)\n",
    "    fitRHOASYM726B.append(fitrhoasym)\n",
    "    fitRESYM726B.append(fitresym)\n",
    "    fitREASYM726B.append(fitreasym)\n",
    "    \n",
    "end_time = time.time()\n",
    "elapsed_time = end_time - start_time\n",
    "print(elapsed_time) # in seconds"
   ]
  },
  {
   "cell_type": "code",
   "execution_count": 19,
   "id": "be2b9eb6-af57-49fc-bac2-67e77fd49bab",
   "metadata": {},
   "outputs": [
    {
     "name": "stdout",
     "output_type": "stream",
     "text": [
      "62.3557915687561\n"
     ]
    }
   ],
   "source": [
    "start_time = time.time()\n",
    "\n",
    "fitRHOSYM744B=[]\n",
    "fitRHOASYM744B=[]\n",
    "fitRESYM744B=[]\n",
    "fitREASYM744B=[]\n",
    "\n",
    "for i in range(len(temparray)):\n",
    "    fitrhosym=[]\n",
    "    fitresym=[]\n",
    "    fitrhoasym=[]\n",
    "    fitreasym=[]\n",
    "    for j in range(k1*k2):\n",
    "        coeff=coeffRHOSYM744B[i][j]\n",
    "        \n",
    "        fitrhosym.append(p10(x, *coeff).tolist())\n",
    "        coeff=coeffRESYM744B[i][j]\n",
    "        \n",
    "        fitresym.append(pwithe(x, *coeff).tolist())\n",
    "        coeff=coeffRHOASYM744B[i][j]\n",
    "        fitrhoasym.append(p9(x, *coeff).tolist())\n",
    "        \n",
    "        coeff=coeffREASYM744B[i][j]\n",
    "        fitreasym.append(p9(x, *coeff).tolist())\n",
    "        \n",
    "    fitRHOSYM744B.append(fitrhosym)\n",
    "    fitRHOASYM744B.append(fitrhoasym)\n",
    "    fitRESYM744B.append(fitresym)\n",
    "    fitREASYM744B.append(fitreasym)\n",
    "    \n",
    "end_time = time.time()\n",
    "elapsed_time = end_time - start_time\n",
    "print(elapsed_time) # in seconds"
   ]
  },
  {
   "cell_type": "code",
   "execution_count": 20,
   "id": "1db7b7ce-f340-4e68-9673-073db3f33703",
   "metadata": {},
   "outputs": [
    {
     "name": "stdout",
     "output_type": "stream",
     "text": [
      "56.91602444648743\n"
     ]
    }
   ],
   "source": [
    "start_time = time.time()\n",
    "\n",
    "fitRHOSYM773B=[]\n",
    "fitRHOASYM773B=[]\n",
    "fitRESYM773B=[]\n",
    "fitREASYM773B=[]\n",
    "\n",
    "for i in range(len(temparray)):\n",
    "    fitrhosym=[]\n",
    "    fitresym=[]\n",
    "    fitrhoasym=[]\n",
    "    fitreasym=[]\n",
    "    for j in range(k1*k2):\n",
    "        coeff=coeffRHOSYM773B[i][j]\n",
    "        \n",
    "        fitrhosym.append(p10(x, *coeff).tolist())\n",
    "        coeff=coeffRESYM773B[i][j]\n",
    "        \n",
    "        fitresym.append(pwithe(x, *coeff).tolist())\n",
    "        coeff=coeffRHOASYM773B[i][j]\n",
    "        fitrhoasym.append(p9(x, *coeff).tolist())\n",
    "        \n",
    "        coeff=coeffREASYM773B[i][j]\n",
    "        fitreasym.append(p9(x, *coeff).tolist())\n",
    "        \n",
    "    fitRHOSYM773B.append(fitrhosym)\n",
    "    fitRHOASYM773B.append(fitrhoasym)\n",
    "    fitRESYM773B.append(fitresym)\n",
    "    fitREASYM773B.append(fitreasym)\n",
    "    \n",
    "end_time = time.time()\n",
    "elapsed_time = end_time - start_time\n",
    "print(elapsed_time) # in seconds"
   ]
  },
  {
   "cell_type": "code",
   "execution_count": 21,
   "id": "0cfcfd27-5e19-4e65-b6b9-345065c4db7e",
   "metadata": {},
   "outputs": [
    {
     "name": "stdout",
     "output_type": "stream",
     "text": [
      "56.24481964111328\n"
     ]
    }
   ],
   "source": [
    "start_time = time.time()\n",
    "\n",
    "fitRHOSYM817B=[]\n",
    "fitRHOASYM817B=[]\n",
    "fitRESYM817B=[]\n",
    "fitREASYM817B=[]\n",
    "\n",
    "for i in range(len(temparray)):\n",
    "    fitrhosym=[]\n",
    "    fitresym=[]\n",
    "    fitrhoasym=[]\n",
    "    fitreasym=[]\n",
    "    for j in range(k1*k2):\n",
    "        coeff=coeffRHOSYM817B[i][j]\n",
    "        \n",
    "        fitrhosym.append(p10(x, *coeff).tolist())\n",
    "        coeff=coeffRESYM817B[i][j]\n",
    "        \n",
    "        fitresym.append(pwithe(x, *coeff).tolist())\n",
    "        coeff=coeffRHOASYM817B[i][j]\n",
    "        fitrhoasym.append(p9(x, *coeff).tolist())\n",
    "        \n",
    "        coeff=coeffREASYM817B[i][j]\n",
    "        fitreasym.append(p9(x, *coeff).tolist())\n",
    "        \n",
    "    fitRHOSYM817B.append(fitrhosym)\n",
    "    fitRHOASYM817B.append(fitrhoasym)\n",
    "    fitRESYM817B.append(fitresym)\n",
    "    fitREASYM817B.append(fitreasym)\n",
    "    \n",
    "end_time = time.time()\n",
    "elapsed_time = end_time - start_time\n",
    "print(elapsed_time) # in seconds"
   ]
  },
  {
   "cell_type": "code",
   "execution_count": 22,
   "id": "2d76641d-9b1f-4053-ac4e-77511c7ef8bb",
   "metadata": {},
   "outputs": [
    {
     "name": "stdout",
     "output_type": "stream",
     "text": [
      "58.85160732269287\n"
     ]
    }
   ],
   "source": [
    "start_time = time.time()\n",
    "\n",
    "fitRHOSYM850B=[]\n",
    "fitRHOASYM850B=[]\n",
    "fitRESYM850B=[]\n",
    "fitREASYM850B=[]\n",
    "\n",
    "for i in range(len(temparray)):\n",
    "    fitrhosym=[]\n",
    "    fitresym=[]\n",
    "    fitrhoasym=[]\n",
    "    fitreasym=[]\n",
    "    for j in range(k1*k2):\n",
    "        coeff=coeffRHOSYM850B[i][j]\n",
    "        \n",
    "        fitrhosym.append(p10(x, *coeff).tolist())\n",
    "        coeff=coeffRESYM850B[i][j]\n",
    "        \n",
    "        fitresym.append(pwithe(x, *coeff).tolist())\n",
    "        coeff=coeffRHOASYM850B[i][j]\n",
    "        fitrhoasym.append(p9(x, *coeff).tolist())\n",
    "        \n",
    "        coeff=coeffREASYM850B[i][j]\n",
    "        fitreasym.append(p9(x, *coeff).tolist())\n",
    "        \n",
    "    fitRHOSYM850B.append(fitrhosym)\n",
    "    fitRHOASYM850B.append(fitrhoasym)\n",
    "    fitRESYM850B.append(fitresym)\n",
    "    fitREASYM850B.append(fitreasym)\n",
    "    \n",
    "end_time = time.time()\n",
    "elapsed_time = end_time - start_time\n",
    "print(elapsed_time) # in seconds"
   ]
  },
  {
   "cell_type": "markdown",
   "id": "ff07cf2c-449d-471e-b428-95ee8bd8dc54",
   "metadata": {},
   "source": [
    "\n",
    "\n",
    "VARIOUS FUNCTIONS AND COMPONENTS FOR RECONSTRUCTING SPECTRAL FUNCTIONS, RESISTIVITY:"
   ]
  },
  {
   "cell_type": "code",
   "execution_count": 24,
   "id": "82e982db-790c-497d-9343-5a20cac11607",
   "metadata": {},
   "outputs": [],
   "source": [
    "def bandenergy(x, y, tp, tpp):\n",
    "    return (-2*np.cos(x)-2*np.cos(y)-4*tp*np.cos(x)*np.cos(y)-2*tpp*(np.cos(2*x)+np.cos(2*y)))\n",
    "\n",
    "bandenergyvec=np.vectorize(bandenergy)"
   ]
  },
  {
   "cell_type": "code",
   "execution_count": 25,
   "id": "d3a5ec13-27bf-4ad2-ba7c-70a9e0ed0867",
   "metadata": {},
   "outputs": [],
   "source": [
    "bande=bandenergyvec(k1new,k2new,tp,tpp)\n",
    "ve=omeganew-bande\n",
    "veflat=np.concatenate(ve)"
   ]
  },
  {
   "cell_type": "code",
   "execution_count": 26,
   "id": "0a838c35-59bc-4ec9-b34e-7835390823bc",
   "metadata": {},
   "outputs": [],
   "source": [
    "def depskx(kx,ky): \n",
    "    return 2*t*np.sin(kx) + 4*tp*np.sin(kx)*np.cos(ky) + 4*tpp*np.sin(2*kx)\n",
    "\n",
    "ux = 1.0\n",
    "uy = 0.0\n",
    "\n",
    "def dF(x, tau): #derivative_Fermi_function_over_beta(x, tau):\n",
    "    if x/tau <= -20.0:\n",
    "        return 0.0;\n",
    "    elif x/tau >= 20.0:\n",
    "        return 0.0\n",
    "    else:\n",
    "        return -1.0/ (2.0 * np.cosh(x / (2.0 * tau)))**2\n",
    "    \n",
    "dFvec=np.vectorize(dF)\n",
    "depsvec=np.vectorize(depskx)"
   ]
  },
  {
   "cell_type": "code",
   "execution_count": 27,
   "id": "2a435d05-a272-4549-b9c7-8d4519d618fa",
   "metadata": {},
   "outputs": [],
   "source": [
    "def flatten(matrix):\n",
    "    flat_list = []\n",
    "    for row in matrix:\n",
    "        flat_list += row\n",
    "    return flat_list"
   ]
  },
  {
   "cell_type": "code",
   "execution_count": 28,
   "id": "c0352209-d284-43e1-ac27-6391c34616ab",
   "metadata": {},
   "outputs": [],
   "source": [
    "flatRHOSYM700B=[]\n",
    "flatRESYM700B=[]\n",
    "flatRHOASYM700B=[]\n",
    "flatREASYM700B=[]\n",
    "for i in range(len(temparray)):\n",
    "    flatRHOSYM700B.append(flatten(fitRHOSYM700B[i]))\n",
    "    flatRHOASYM700B.append(flatten(fitRHOASYM700B[i]))\n",
    "    flatRESYM700B.append(flatten(fitRESYM700B[i]))\n",
    "    flatREASYM700B.append(flatten(fitREASYM700B[i]))\n",
    "\n",
    "flatRHOSYM726B=[]\n",
    "flatRESYM726B=[]\n",
    "flatRHOASYM726B=[]\n",
    "flatREASYM726B=[]\n",
    "for i in range(len(temparray[1:])):\n",
    "    flatRHOSYM726B.append(flatten(fitRHOSYM726B[i]))\n",
    "    flatRHOASYM726B.append(flatten(fitRHOASYM726B[i]))\n",
    "    flatRESYM726B.append(flatten(fitRESYM726B[i]))\n",
    "    flatREASYM726B.append(flatten(fitREASYM726B[i]))\n",
    "\n",
    "flatRHOSYM744B=[]\n",
    "flatRESYM744B=[]\n",
    "flatRHOASYM744B=[]\n",
    "flatREASYM744B=[]\n",
    "for i in range(len(temparray)):\n",
    "    flatRHOSYM744B.append(flatten(fitRHOSYM744B[i]))\n",
    "    flatRHOASYM744B.append(flatten(fitRHOASYM744B[i]))\n",
    "    flatRESYM744B.append(flatten(fitRESYM744B[i]))\n",
    "    flatREASYM744B.append(flatten(fitREASYM744B[i]))\n",
    "\n",
    "flatRHOSYM773B=[]\n",
    "flatRESYM773B=[]\n",
    "flatRHOASYM773B=[]\n",
    "flatREASYM773B=[]\n",
    "for i in range(len(temparray)):\n",
    "    flatRHOSYM773B.append(flatten(fitRHOSYM773B[i]))\n",
    "    flatRHOASYM773B.append(flatten(fitRHOASYM773B[i]))\n",
    "    flatRESYM773B.append(flatten(fitRESYM773B[i]))\n",
    "    flatREASYM773B.append(flatten(fitREASYM773B[i]))\n",
    "\n",
    "flatRHOSYM817B=[]\n",
    "flatRESYM817B=[]\n",
    "flatRHOASYM817B=[]\n",
    "flatREASYM817B=[]\n",
    "for i in range(len(temparray)):\n",
    "    flatRHOSYM817B.append(flatten(fitRHOSYM817B[i]))\n",
    "    flatRHOASYM817B.append(flatten(fitRHOASYM817B[i]))\n",
    "    flatRESYM817B.append(flatten(fitRESYM817B[i]))\n",
    "    flatREASYM817B.append(flatten(fitREASYM817B[i]))\n",
    "    \n",
    "flatRHOSYM850B=[]\n",
    "flatRESYM850B=[]\n",
    "flatRHOASYM850B=[]\n",
    "flatREASYM850B=[]\n",
    "for i in range(len(temparray)):\n",
    "    flatRHOSYM850B.append(flatten(fitRHOSYM850B[i]))\n",
    "    flatRHOASYM850B.append(flatten(fitRHOASYM850B[i]))\n",
    "    flatRESYM850B.append(flatten(fitRESYM850B[i]))\n",
    "    flatREASYM850B.append(flatten(fitREASYM850B[i]))    "
   ]
  },
  {
   "cell_type": "markdown",
   "id": "cdf51e94-5cab-4e90-adba-16ae801ffc28",
   "metadata": {},
   "source": [
    "\n",
    "\n",
    "SPECTRAL FUNCTIONS ρG:"
   ]
  },
  {
   "cell_type": "code",
   "execution_count": 30,
   "id": "b3d182d6-81fd-4477-b1cf-ded62d2fe2be",
   "metadata": {},
   "outputs": [
    {
     "name": "stdout",
     "output_type": "stream",
     "text": [
      "7.107561826705933\n"
     ]
    }
   ],
   "source": [
    "start_time = time.time()\n",
    "\n",
    "RHOG700B=[]\n",
    "for i in range(len(temparray)):\n",
    "    refcn=np.add(np.add(flatREASYM700B[i],flatRESYM700B[i]),np.repeat(y0RE700B[i],len(ve[0])))\n",
    "    rhfcn=np.add(np.add(flatRHOASYM700B[i],flatRHOSYM700B[i]),np.repeat(y0RHO700B[i],len(ve[0])))\n",
    "    denom=np.add(np.add(np.add(np.power(refcn,2),np.power(np.pi*rhfcn,2)), -2*np.multiply(refcn,veflat+mu700B[i][0][0])),np.power(veflat+mu700B[i][0][0],2))\n",
    "    rhoG=np.divide(rhfcn, denom)\n",
    "    RHOG700B.append(rhoG)\n",
    "\n",
    "end_time = time.time()\n",
    "elapsed_time = end_time - start_time\n",
    "print(elapsed_time) # in seconds"
   ]
  },
  {
   "cell_type": "code",
   "execution_count": 31,
   "id": "78eb3e18-3296-4904-bf97-e2fd757dc7bd",
   "metadata": {},
   "outputs": [],
   "source": [
    "RHOG726B=[]\n",
    "for i in range(len(temparray[1:])):\n",
    "    refcn=np.add(np.add(flatREASYM726B[i],flatRESYM726B[i]),np.repeat(y0RE726B[i],len(ve[0])))\n",
    "    rhfcn=np.add(np.add(flatRHOASYM726B[i],flatRHOSYM726B[i]),np.repeat(y0RHO726B[i],len(ve[0])))\n",
    "    denom=np.add(np.add(np.add(np.power(refcn,2),np.power(np.pi*rhfcn,2)), -2*np.multiply(refcn,veflat+mu726B[i][0][0])),np.power(veflat+mu726B[i][0][0],2))\n",
    "    rhoG=np.divide(rhfcn, denom)\n",
    "    RHOG726B.append(rhoG)"
   ]
  },
  {
   "cell_type": "code",
   "execution_count": 32,
   "id": "cecdecad-8a88-4228-ad57-af2465a705e0",
   "metadata": {},
   "outputs": [],
   "source": [
    "RHOG744B=[]\n",
    "for i in range(len(temparray)):\n",
    "    refcn=np.add(np.add(flatREASYM744B[i],flatRESYM744B[i]),np.repeat(y0RE744B[i],len(ve[0])))\n",
    "    rhfcn=np.add(np.add(flatRHOASYM744B[i],flatRHOSYM744B[i]),np.repeat(y0RHO744B[i],len(ve[0])))\n",
    "    denom=np.add(np.add(np.add(np.power(refcn,2),np.power(np.pi*rhfcn,2)), -2*np.multiply(refcn,veflat+mu744B[i][0][0])),np.power(veflat+mu744B[i][0][0],2))\n",
    "    rhoG=np.divide(rhfcn, denom)\n",
    "    RHOG744B.append(rhoG)"
   ]
  },
  {
   "cell_type": "code",
   "execution_count": 33,
   "id": "effa76e6-b9ca-49c3-a980-fe850c130c83",
   "metadata": {},
   "outputs": [],
   "source": [
    "RHOG773B=[]\n",
    "for i in range(len(temparray)):\n",
    "    refcn=np.add(np.add(flatREASYM773B[i],flatRESYM773B[i]),np.repeat(y0RE773B[i],len(ve[0])))\n",
    "    rhfcn=np.add(np.add(flatRHOASYM773B[i],flatRHOSYM773B[i]),np.repeat(y0RHO773B[i],len(ve[0])))\n",
    "    denom=np.add(np.add(np.add(np.power(refcn,2),np.power(np.pi*rhfcn,2)), -2*np.multiply(refcn,veflat+mu773B[i][0][0])),np.power(veflat+mu773B[i][0][0],2))\n",
    "    rhoG=np.divide(rhfcn, denom)\n",
    "    RHOG773B.append(rhoG)"
   ]
  },
  {
   "cell_type": "code",
   "execution_count": 34,
   "id": "bece91cc-4fb8-44d6-b43c-e206c439c03d",
   "metadata": {},
   "outputs": [],
   "source": [
    "RHOG817B=[]\n",
    "for i in range(len(temparray)):\n",
    "    refcn=np.add(np.add(flatREASYM817B[i],flatRESYM817B[i]),np.repeat(y0RE817B[i],len(ve[0])))\n",
    "    rhfcn=np.add(np.add(flatRHOASYM817B[i],flatRHOSYM817B[i]),np.repeat(y0RHO817B[i],len(ve[0])))\n",
    "    denom=np.add(np.add(np.add(np.power(refcn,2),np.power(np.pi*rhfcn,2)), -2*np.multiply(refcn,veflat+mu817B[i][0][0])),np.power(veflat+mu817B[i][0][0],2))\n",
    "    rhoG=np.divide(rhfcn, denom)\n",
    "    RHOG817B.append(rhoG)"
   ]
  },
  {
   "cell_type": "code",
   "execution_count": 35,
   "id": "27911c2d-0632-4818-a3e1-96fb16fa918f",
   "metadata": {},
   "outputs": [],
   "source": [
    "RHOG850B=[]\n",
    "for i in range(len(temparray)):\n",
    "    refcn=np.add(np.add(flatREASYM850B[i],flatRESYM850B[i]),np.repeat(y0RE850B[i],len(ve[0])))\n",
    "    rhfcn=np.add(np.add(flatRHOASYM850B[i],flatRHOSYM850B[i]),np.repeat(y0RHO850B[i],len(ve[0])))\n",
    "    denom=np.add(np.add(np.add(np.power(refcn,2),np.power(np.pi*rhfcn,2)), -2*np.multiply(refcn,veflat+mu850B[i][0][0])),np.power(veflat+mu850B[i][0][0],2))\n",
    "    rhoG=np.divide(rhfcn, denom)\n",
    "    RHOG850B.append(rhoG)"
   ]
  },
  {
   "cell_type": "code",
   "execution_count": 36,
   "id": "fde07bc2-270b-4a9d-b926-8cd37b2bb9e9",
   "metadata": {},
   "outputs": [],
   "source": [
    "omegaflat=flatten(omeganew)\n",
    "k1flat=flatten(k1new)\n",
    "k2flat=flatten(k2new)"
   ]
  },
  {
   "cell_type": "markdown",
   "id": "4ea4a87c-e77b-473b-b367-e519ad48bc7a",
   "metadata": {},
   "source": [
    "\n",
    "\n",
    "RESISTIVITY FROM SPECTRAL FUNCTIONS:"
   ]
  },
  {
   "cell_type": "code",
   "execution_count": 38,
   "id": "6cc28257-8ec6-4085-a415-f0b8d7b76292",
   "metadata": {},
   "outputs": [
    {
     "name": "stdout",
     "output_type": "stream",
     "text": [
      "118.54724264144897\n"
     ]
    }
   ],
   "source": [
    "start_time = time.time()\n",
    "\n",
    "sigxx700B=[]\n",
    "for i in range(len(temparray)):\n",
    "    tau=temparray[i]\n",
    "    sigarr=np.multiply(np.multiply(-dFvec(omegaflat,tau),np.power(RHOG700B[i],2)),np.power(depsvec(k1flat,k2flat),2))\n",
    "    sigxxpart=sigarr.sum()\n",
    "    DELTAomega=finalv[2]-finalv[1] # original spacing gets rid of the 0.04 and scales omega back\n",
    "    sigxxfit=sigxxpart*((2*np.pi)**2) * DELTAomega / (tau * k1 * k2)\n",
    "    sigxx700B.append(sigxxfit)\n",
    "rhoxx700B=np.divide(1,sigxx700B)\n",
    "\n",
    "end_time = time.time()\n",
    "elapsed_time = end_time - start_time\n",
    "print(elapsed_time) # in seconds"
   ]
  },
  {
   "cell_type": "code",
   "execution_count": 39,
   "id": "10a574f3-adad-48b7-a363-76a40e3f5f74",
   "metadata": {},
   "outputs": [],
   "source": [
    "sigxx726B=[]\n",
    "for i in range(len(temparray[1:])):\n",
    "    tau=temparray[i]\n",
    "    sigarr=np.multiply(np.multiply(-dFvec(omegaflat,tau),np.power(RHOG726B[i],2)),np.power(depsvec(k1flat,k2flat),2))\n",
    "    sigxxpart=sigarr.sum()\n",
    "    DELTAomega=finalv[2]-finalv[1]  \n",
    "    sigxxfit=sigxxpart*((2*np.pi)**2) * DELTAomega / (tau * k1 * k2)\n",
    "    sigxx726B.append(sigxxfit)\n",
    "rhoxx726B=np.divide(1,sigxx726B)"
   ]
  },
  {
   "cell_type": "code",
   "execution_count": 40,
   "id": "e3ae1a07-1ac8-4970-84c4-c970cddf8c74",
   "metadata": {},
   "outputs": [],
   "source": [
    "sigxx744B=[]\n",
    "for i in range(len(temparray)):\n",
    "    tau=temparray[i]\n",
    "    sigarr=np.multiply(np.multiply(-dFvec(omegaflat,tau),np.power(RHOG744B[i],2)),np.power(depsvec(k1flat,k2flat),2))\n",
    "    sigxxpart=sigarr.sum()\n",
    "    DELTAomega=finalv[2]-finalv[1]  \n",
    "    sigxxfit=sigxxpart*((2*np.pi)**2) * DELTAomega / (tau * k1 * k2)\n",
    "    sigxx744B.append(sigxxfit)\n",
    "rhoxx744B=np.divide(1,sigxx744B)"
   ]
  },
  {
   "cell_type": "code",
   "execution_count": 41,
   "id": "3afc4d01-ea7e-4937-a417-94eec6c0e3c6",
   "metadata": {},
   "outputs": [],
   "source": [
    "sigxx773B=[]\n",
    "for i in range(len(temparray)):\n",
    "    tau=temparray[i]\n",
    "    sigarr=np.multiply(np.multiply(-dFvec(omegaflat,tau),np.power(RHOG773B[i],2)),np.power(depsvec(k1flat,k2flat),2))\n",
    "    sigxxpart=sigarr.sum()\n",
    "    DELTAomega=finalv[2]-finalv[1]  \n",
    "    sigxxfit=sigxxpart*((2*np.pi)**2) * DELTAomega / (tau * k1 * k2)\n",
    "    sigxx773B.append(sigxxfit)\n",
    "rhoxx773B=np.divide(1,sigxx773B)"
   ]
  },
  {
   "cell_type": "code",
   "execution_count": 42,
   "id": "45fcf82d-4e3d-43d3-ba18-1afdae2dee38",
   "metadata": {},
   "outputs": [],
   "source": [
    "sigxx817B=[]\n",
    "for i in range(len(temparray)):\n",
    "    tau=temparray[i]\n",
    "    sigarr=np.multiply(np.multiply(-dFvec(omegaflat,tau),np.power(RHOG817B[i],2)),np.power(depsvec(k1flat,k2flat),2))\n",
    "    sigxxpart=sigarr.sum()\n",
    "    DELTAomega=finalv[2]-finalv[1]  \n",
    "    sigxxfit=sigxxpart*((2*np.pi)**2) * DELTAomega / (tau * k1 * k2)\n",
    "    sigxx817B.append(sigxxfit)\n",
    "rhoxx817B=np.divide(1,sigxx817B)"
   ]
  },
  {
   "cell_type": "code",
   "execution_count": 43,
   "id": "4fdb1cd6-d627-46e6-b840-c4138cd70e7d",
   "metadata": {},
   "outputs": [],
   "source": [
    "sigxx850B=[]\n",
    "for i in range(len(temparray)):\n",
    "    tau=temparray[i]\n",
    "    sigarr=np.multiply(np.multiply(-dFvec(omegaflat,tau),np.power(RHOG850B[i],2)),np.power(depsvec(k1flat,k2flat),2))\n",
    "    sigxxpart=sigarr.sum()\n",
    "    DELTAomega=finalv[2]-finalv[1]  \n",
    "    sigxxfit=sigxxpart*((2*np.pi)**2) * DELTAomega / (tau * k1 * k2)\n",
    "    sigxx850B.append(sigxxfit)\n",
    "rhoxx850B=np.divide(1,sigxx850B)"
   ]
  },
  {
   "cell_type": "markdown",
   "id": "5e8106e3-9a0d-45b2-8be0-cfcd07a9c1a0",
   "metadata": {},
   "source": [
    "\n",
    "\n",
    "EXAMPLE PLOTS:"
   ]
  },
  {
   "cell_type": "code",
   "execution_count": 99,
   "id": "e3687e78-240e-4282-9a66-a96f3e7b4ff7",
   "metadata": {},
   "outputs": [
    {
     "data": {
      "image/png": "[encoded data removed]",
      "text/plain": [
       "<Figure size 640x480 with 1 Axes>"
      ]
     },
     "metadata": {},
     "output_type": "display_data"
    }
   ],
   "source": [
    "# spectral function data for the first (kx, ky) value in the n=0.726 data\n",
    "# data is displayed with an interpolation\n",
    "\n",
    "# first index in RHOG726B is temperature, inside that is a list of 92x92 sequential 43 point spectral functions\n",
    "# The first of these, at kx=0 and ky=0, is shown below\n",
    "# To find the kx and ky value for a point in RHOG726B you can check the same index in k1flat, k2flat\n",
    "\n",
    "spl=interpolate.InterpolatedUnivariateSpline(omeganew[0],RHOG744B[0][0:43])\n",
    "omega=np.linspace(omeganew[0][0],omeganew[0][-1],500)\n",
    "plt.plot(omega,spl(omega))\n",
    "plt.plot(omeganew[0],RHOG744B[0][0:43],'o')\n",
    "plt.title(\"ρG (kx=ky=0)\")\n",
    "plt.xlabel(\"ω\")\n",
    "plt.show()"
   ]
  },
  {
   "cell_type": "code",
   "execution_count": 46,
   "id": "b4431c05-4989-4555-b713-bd0d08bce48a",
   "metadata": {
    "scrolled": true
   },
   "outputs": [
    {
     "data": {
      "image/png": "[encoded data removed]",
      "text/plain": [
       "<Figure size 640x480 with 1 Axes>"
      ]
     },
     "metadata": {},
     "output_type": "display_data"
    }
   ],
   "source": [
    "# one of the resistivity plots\n",
    "# this is in dimensionless units, units we used can be found in the paper\n",
    "\n",
    "plt.plot(temparray,rhoxx744B,'o')\n",
    "plt.title(\"Polynomial Reproduction of Resistivity, n=0.744, Model B\")\n",
    "plt.ylabel(\"ρ\")\n",
    "plt.xlabel(\"T\")\n",
    "plt.show()"
   ]
  },
  {
   "cell_type": "markdown",
   "id": "5f520176-a96c-42dc-b271-02241168a48f",
   "metadata": {},
   "source": [
    "INTERPOLATION:"
   ]
  },
  {
   "cell_type": "code",
   "execution_count": 48,
   "id": "3a12891e-98dd-4ae4-a84f-a711cd21fe2c",
   "metadata": {},
   "outputs": [],
   "source": [
    "# an easy way to estimate resistivities at new densities from our results:\n",
    "\n",
    "rhoarr=[rhoxx700B,rhoxx726B,rhoxx744B,rhoxx773B,rhoxx817B,rhoxx850B]\n",
    "rhoarr=[rho.tolist() for rho in rhoarr]\n",
    "densities=[0.700,0.726,0.744,0.773,0.817,0.850];\n",
    "\n",
    "tvals=np.tile(temparray,len(densities)).tolist()\n",
    "tvals=tvals[:53]+tvals[54:]                # cut out a point since 0.726 didn't work at lowest T\n",
    "nvals=np.repeat(densities,len(temparray)).tolist()\n",
    "nvals=nvals[:53]+nvals[54:]\n",
    "rhovals=flatten(rhoarr)\n",
    "\n",
    "X = np.linspace(min(tvals), max(tvals))\n",
    "Y = np.linspace(min(nvals), max(nvals))\n",
    "X, Y = np.meshgrid(X,Y)\n",
    "interp = interpolate.LinearNDInterpolator(list(zip(tvals, nvals)), rhovals)\n",
    "Z = interp(X, Y)\n"
   ]
  },
  {
   "cell_type": "code",
   "execution_count": 49,
   "id": "c6961c0d-b3ae-41e1-a896-ec8472d4b744",
   "metadata": {},
   "outputs": [
    {
     "data": {
      "image/png": "[encoded data removed]",
      "text/plain": [
       "<Figure size 640x480 with 1 Axes>"
      ]
     },
     "metadata": {},
     "output_type": "display_data"
    }
   ],
   "source": [
    "# demonstrating interpolation:\n",
    "\n",
    "density=0.8\n",
    "\n",
    "plt.plot(temparray,interp(temparray,density),'k-')\n",
    "plt.title(\"Resistivity Interpolation at n = %1.3f\" % density)\n",
    "plt.ylabel(\"ρ\")\n",
    "plt.xlabel(\"T\")\n",
    "plt.show()"
   ]
  },
  {
   "cell_type": "code",
   "execution_count": null,
   "id": "35e90dee-a296-40fa-ac37-7fdb15234941",
   "metadata": {},
   "outputs": [],
   "source": []
  }
 ],
 "metadata": {
  "kernelspec": {
   "display_name": "Python [conda env:base] *",
   "language": "python",
   "name": "conda-base-py"
  },
  "language_info": {
   "codemirror_mode": {
    "name": "ipython",
    "version": 3
   },
   "file_extension": ".py",
   "mimetype": "text/x-python",
   "name": "python",
   "nbconvert_exporter": "python",
   "pygments_lexer": "ipython3",
   "version": "3.9.20"
  }
 },
 "nbformat": 4,
 "nbformat_minor": 5
}
