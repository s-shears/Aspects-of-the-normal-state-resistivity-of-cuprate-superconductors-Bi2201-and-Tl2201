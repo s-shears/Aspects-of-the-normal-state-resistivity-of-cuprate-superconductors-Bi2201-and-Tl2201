{
 "cells": [
  {
   "cell_type": "markdown",
   "id": "da6b3331-2378-48d2-8e81-c54a75059d01",
   "metadata": {},
   "source": [
    "INITIALIZE:"
   ]
  },
  {
   "cell_type": "code",
   "execution_count": 2,
   "id": "05106baa-da3e-4aa7-bbc6-690ec7e318e0",
   "metadata": {},
   "outputs": [],
   "source": [
    "import numpy as np\n",
    "import matplotlib.pyplot as plt\n",
    "import scipy\n",
    "import scipy.interpolate as interpolate\n",
    "import time"
   ]
  },
  {
   "cell_type": "markdown",
   "id": "4762ffd1-6886-4bf2-b761-6acf2ae91e5f",
   "metadata": {},
   "source": [
    "PARAMETERS/INITIAL ARRAYS:"
   ]
  },
  {
   "cell_type": "code",
   "execution_count": 4,
   "id": "a28dd52f-43d6-45f0-a3e9-2d5a4a9e056b",
   "metadata": {},
   "outputs": [],
   "source": [
    "t=1\n",
    "tp=-0.200\n",
    "tpp=0.000\n",
    "\n",
    "k1=92\n",
    "k2=92\n",
    "Nexp=12\n",
    "D=50"
   ]
  },
  {
   "cell_type": "code",
   "execution_count": 5,
   "id": "9bfc148a-b5da-437b-82a0-864bdb12baed",
   "metadata": {},
   "outputs": [],
   "source": [
    "temparray=[0.0067050, 0.0076628, 0.0086207, 0.0095785, 0.0105364 , 0.0114943, 0.0124521, 0.0134100, 0.0143678, 0.0153257, 0.0162835, 0.0172414, 0.0181992, 0.0191571, 0.0201149, 0.0210728, 0.0220307, 0.0229885, 0.0239464, 0.0249042, 0.0258621, 0.0268199, 0.0277778, 0.0287356, 0.0296935, 0.0306513, 0.0316092, 0.0325670, 0.0335349, 0.0344828, 0.0354406, 0.0363985, 0.0373563, 0.0383142, 0.0402299, 0.0421456, 0.0440613, 0.0459770, 0.0478927, 0.0498084, 0.0517241, 0.0536398, 0.0555556, 0.0574713, 0.0593870, 0.0613027, 0.0632184, 0.0651341, 0.0670498, 0.0689655, 0.0708812, 0.0727969, 0.0747126, 0.0766284]\n",
    "tempnames=[('%.4f' %temp) for temp in temparray];"
   ]
  },
  {
   "cell_type": "code",
   "execution_count": 6,
   "id": "ca627b59-1205-4888-9dba-f5cdd9fd899c",
   "metadata": {},
   "outputs": [],
   "source": [
    "sizev=2**Nexp \n",
    "sizee=k1*k2\n",
    "sizek=k1\n",
    "\n",
    "krange=np.linspace(0,2*np.pi-(2*np.pi/sizek),sizek)\n",
    "vrange=np.linspace(-D,D-((2*D)/sizev),sizev) \n",
    "\n",
    "finalk1=np.zeros(k1*k2*(2**Nexp)).tolist()\n",
    "finalk2=np.zeros(k1*k2*(2**Nexp)).tolist()\n",
    "finalv=np.zeros(k1*k2*(2**Nexp)).tolist()\n",
    "for i in range(sizek):            \n",
    "    for j in range(sizek):\n",
    "        for k in range(sizev):  \n",
    "            m=k+sizev*(j+sizek*i)      \n",
    "            finalk1[m]=krange[i]\n",
    "            finalk2[m]=krange[j]\n",
    "            finalv[m]=vrange[k]"
   ]
  },
  {
   "cell_type": "markdown",
   "id": "eb62ca5c-6bf3-47d7-888c-cfc49c75b084",
   "metadata": {},
   "source": [
    "\n",
    "\n",
    "IMPORTS:"
   ]
  },
  {
   "cell_type": "code",
   "execution_count": 8,
   "id": "24c46387-904e-4547-b58f-fc5643eb2529",
   "metadata": {},
   "outputs": [],
   "source": [
    "lists = []\n",
    "with open('760LSCOdata.txt', 'r') as f:\n",
    "    contents = f.read().split('\\n---\\n') \n",
    "    for list_section in contents:\n",
    "        if list_section.strip():\n",
    "            array_list = []\n",
    "            lines = list_section.splitlines()\n",
    "            for line in lines:\n",
    "                if not line.strip() or line.startswith(\"List\") or line.startswith(\"Array\"):\n",
    "                    continue\n",
    "                array_list.append(np.fromstring(line, sep=' ', dtype=float))\n",
    "            lists.append(array_list)\n",
    "\n",
    "coeffRHOSYM760LSCO = [[arr[0:5] for arr in sublist] for sublist in lists]\n",
    "coeffRHOASYM760LSCO = [[arr[5:10] for arr in sublist] for sublist in lists]\n",
    "coeffRESYM760LSCO = [[arr[10:16] for arr in sublist] for sublist in lists]\n",
    "coeffREASYM760LSCO = [[arr[16:21] for arr in sublist] for sublist in lists]\n",
    "y0RHO760LSCO = [[arr[21:22] for arr in sublist] for sublist in lists]\n",
    "y0RE760LSCO = [[arr[22:23] for arr in sublist] for sublist in lists]\n",
    "mu760LSCO = [[arr[23:24] for arr in sublist] for sublist in lists]\n",
    "\n",
    "del lists"
   ]
  },
  {
   "cell_type": "code",
   "execution_count": 9,
   "id": "ce5e6d77-1469-46fe-aa11-19b8d37a75dd",
   "metadata": {},
   "outputs": [],
   "source": [
    "lists = []\n",
    "with open('790LSCOdata.txt', 'r') as f:\n",
    "    contents = f.read().split('\\n---\\n')  \n",
    "    for list_section in contents:\n",
    "        if list_section.strip():  \n",
    "            array_list = []\n",
    "            lines = list_section.splitlines()\n",
    "            for line in lines:\n",
    "                if not line.strip() or line.startswith(\"List\") or line.startswith(\"Array\"):\n",
    "                    continue\n",
    "                array_list.append(np.fromstring(line, sep=' ', dtype=float))\n",
    "            lists.append(array_list)\n",
    "\n",
    "coeffRHOSYM790LSCO = [[arr[0:5] for arr in sublist] for sublist in lists]\n",
    "coeffRHOASYM790LSCO = [[arr[5:10] for arr in sublist] for sublist in lists]\n",
    "coeffRESYM790LSCO = [[arr[10:16] for arr in sublist] for sublist in lists]\n",
    "coeffREASYM790LSCO = [[arr[16:21] for arr in sublist] for sublist in lists]\n",
    "y0RHO790LSCO = [[arr[21:22] for arr in sublist] for sublist in lists]\n",
    "y0RE790LSCO = [[arr[22:23] for arr in sublist] for sublist in lists]\n",
    "mu790LSCO = [[arr[23:24] for arr in sublist] for sublist in lists]\n",
    "\n",
    "del lists"
   ]
  },
  {
   "cell_type": "code",
   "execution_count": 10,
   "id": "90661a28-c957-4890-8227-bf6ef72b8541",
   "metadata": {},
   "outputs": [],
   "source": [
    "lists = []\n",
    "with open('820LSCOdata.txt', 'r') as f:\n",
    "    contents = f.read().split('\\n---\\n')  \n",
    "    for list_section in contents:\n",
    "        if list_section.strip():  \n",
    "            array_list = []\n",
    "            lines = list_section.splitlines()\n",
    "            for line in lines:\n",
    "                if not line.strip() or line.startswith(\"List\") or line.startswith(\"Array\"):\n",
    "                    continue\n",
    "                array_list.append(np.fromstring(line, sep=' ', dtype=float))\n",
    "            lists.append(array_list)\n",
    "\n",
    "coeffRHOSYM820LSCO = [[arr[0:5] for arr in sublist] for sublist in lists]\n",
    "coeffRHOASYM820LSCO = [[arr[5:10] for arr in sublist] for sublist in lists]\n",
    "coeffRESYM820LSCO = [[arr[10:16] for arr in sublist] for sublist in lists]\n",
    "coeffREASYM820LSCO = [[arr[16:21] for arr in sublist] for sublist in lists]\n",
    "y0RHO820LSCO = [[arr[21:22] for arr in sublist] for sublist in lists]\n",
    "y0RE820LSCO = [[arr[22:23] for arr in sublist] for sublist in lists]\n",
    "mu820LSCO = [[arr[23:24] for arr in sublist] for sublist in lists]\n",
    "\n",
    "del lists"
   ]
  },
  {
   "cell_type": "code",
   "execution_count": 11,
   "id": "29879657-d9a0-4229-9d47-56eb6b4ee299",
   "metadata": {},
   "outputs": [],
   "source": [
    "lists = []\n",
    "with open('850LSCOdata.txt', 'r') as f:\n",
    "    contents = f.read().split('\\n---\\n')  \n",
    "    for list_section in contents:\n",
    "        if list_section.strip():  \n",
    "            array_list = []\n",
    "            lines = list_section.splitlines()\n",
    "            for line in lines:\n",
    "                if not line.strip() or line.startswith(\"List\") or line.startswith(\"Array\"):\n",
    "                    continue\n",
    "                array_list.append(np.fromstring(line, sep=' ', dtype=float))\n",
    "            lists.append(array_list)\n",
    "\n",
    "coeffRHOSYM850LSCO = [[arr[0:5] for arr in sublist] for sublist in lists]\n",
    "coeffRHOASYM850LSCO = [[arr[5:10] for arr in sublist] for sublist in lists]\n",
    "coeffRESYM850LSCO = [[arr[10:16] for arr in sublist] for sublist in lists]\n",
    "coeffREASYM850LSCO = [[arr[16:21] for arr in sublist] for sublist in lists]\n",
    "y0RHO850LSCO = [[arr[21:22] for arr in sublist] for sublist in lists]\n",
    "y0RE850LSCO = [[arr[22:23] for arr in sublist] for sublist in lists]\n",
    "mu850LSCO = [[arr[23:24] for arr in sublist] for sublist in lists]\n",
    "\n",
    "del lists"
   ]
  },
  {
   "cell_type": "code",
   "execution_count": 12,
   "id": "5bb95fe9-6cc5-457c-8c5f-c8e2300617a7",
   "metadata": {},
   "outputs": [],
   "source": [
    "lists = []\n",
    "with open('880LSCOdata.txt', 'r') as f:\n",
    "    contents = f.read().split('\\n---\\n')  \n",
    "    for list_section in contents:\n",
    "        if list_section.strip():  \n",
    "            array_list = []\n",
    "            lines = list_section.splitlines()\n",
    "            for line in lines:\n",
    "                if not line.strip() or line.startswith(\"List\") or line.startswith(\"Array\"):\n",
    "                    continue\n",
    "                array_list.append(np.fromstring(line, sep=' ', dtype=float))\n",
    "            lists.append(array_list)\n",
    "\n",
    "coeffRHOSYM880LSCO = [[arr[0:5] for arr in sublist] for sublist in lists]\n",
    "coeffRHOASYM880LSCO = [[arr[5:10] for arr in sublist] for sublist in lists]\n",
    "coeffRESYM880LSCO = [[arr[10:16] for arr in sublist] for sublist in lists]\n",
    "coeffREASYM880LSCO = [[arr[16:21] for arr in sublist] for sublist in lists]\n",
    "y0RHO880LSCO = [[arr[21:22] for arr in sublist] for sublist in lists]\n",
    "y0RE880LSCO = [[arr[22:23] for arr in sublist] for sublist in lists]\n",
    "mu880LSCO = [[arr[23:24] for arr in sublist] for sublist in lists]\n",
    "\n",
    "del lists"
   ]
  },
  {
   "cell_type": "markdown",
   "id": "53e62813-e871-400b-9e87-2e26aca4ef10",
   "metadata": {},
   "source": [
    "\n",
    "\n",
    "MAKE POLYNOMIALS FROM IMPORT DATA:"
   ]
  },
  {
   "cell_type": "code",
   "execution_count": 14,
   "id": "68fabd41-1b8d-4589-b216-e40a1f438e4b",
   "metadata": {},
   "outputs": [],
   "source": [
    "# Polynomials were fit over a small range in the center of the frequency domain (where most of the spectral weight is concentrated)\n",
    "\n",
    "omeganew=[finalv[int((2**12)*i+int((2**12-1)/2)-20):int((2**12)*i+int((2**12-1)/2)+23)] for i in range(k1*k2)]\n",
    "k1new=[finalk1[int((2**12)*i+int((2**12-1)/2)-20):int((2**12)*i+int((2**12-1)/2)+23)] for i in range(k1*k2)]\n",
    "k2new=[finalk2[int((2**12)*i+int((2**12-1)/2)-20):int((2**12)*i+int((2**12-1)/2)+23)] for i in range(k1*k2)]\n",
    "\n",
    "# scaled for numerical stability, scaled back later\n",
    "omegac=0.04\n",
    "x=np.array(omeganew[0])/omegac"
   ]
  },
  {
   "cell_type": "code",
   "execution_count": 15,
   "id": "6ea54a0e-941a-47e1-baa9-848a5a466f3b",
   "metadata": {},
   "outputs": [],
   "source": [
    "def p9(x, b, d, f, h, j): \n",
    "    return b*x + d*x**3 + f*x**5 + h*x**7 + j*x**9\n",
    "\n",
    "def p10(x, c, e, g, i, n): \n",
    "    return (c*x**2 + e*x**4 + g*x**6 + i*x**8 + n*x**10)\n",
    "\n",
    "def pwithe(x, a, c, e, g, n,m ): \n",
    "    return np.exp(-a*x**2)*(c*x**2 + e*x**4 + g*x**6 + n*x**8 + m*x**10)"
   ]
  },
  {
   "cell_type": "code",
   "execution_count": 16,
   "id": "438957ee-6266-4bb7-99ca-380f61f7eaab",
   "metadata": {},
   "outputs": [
    {
     "name": "stdout",
     "output_type": "stream",
     "text": [
      "71.5285017490387\n"
     ]
    }
   ],
   "source": [
    "start_time = time.time()\n",
    "# should take a minute or two each\n",
    "\n",
    "fitRHOSYM760LSCO=[]\n",
    "fitRHOASYM760LSCO=[]\n",
    "fitRESYM760LSCO=[]\n",
    "fitREASYM760LSCO=[]\n",
    "\n",
    "for i in range(len(temparray[2:])):\n",
    "    fitrhosym=[]\n",
    "    fitresym=[]\n",
    "    fitrhoasym=[]\n",
    "    fitreasym=[]\n",
    "    for j in range(k1*k2):\n",
    "        coeff=coeffRHOSYM760LSCO[i][j]\n",
    "        \n",
    "        fitrhosym.append(p10(x, *coeff).tolist())\n",
    "        coeff=coeffRESYM760LSCO[i][j]\n",
    "        \n",
    "        fitresym.append(pwithe(x, *coeff).tolist())\n",
    "        coeff=coeffRHOASYM760LSCO[i][j]\n",
    "        fitrhoasym.append(p9(x, *coeff).tolist())\n",
    "        \n",
    "        coeff=coeffREASYM760LSCO[i][j]\n",
    "        fitreasym.append(p9(x, *coeff).tolist())\n",
    "        \n",
    "    fitRHOSYM760LSCO.append(fitrhosym)\n",
    "    fitRHOASYM760LSCO.append(fitrhoasym)\n",
    "    fitRESYM760LSCO.append(fitresym)\n",
    "    fitREASYM760LSCO.append(fitreasym)\n",
    "    \n",
    "end_time = time.time()\n",
    "elapsed_time = end_time - start_time\n",
    "print(elapsed_time) # in seconds"
   ]
  },
  {
   "cell_type": "code",
   "execution_count": 17,
   "id": "6d126f0b-f09c-4ccc-a9c6-719bab9273eb",
   "metadata": {},
   "outputs": [
    {
     "name": "stdout",
     "output_type": "stream",
     "text": [
      "64.27593564987183\n"
     ]
    }
   ],
   "source": [
    "start_time = time.time()\n",
    "\n",
    "fitRHOSYM790LSCO=[]\n",
    "fitRHOASYM790LSCO=[]\n",
    "fitRESYM790LSCO=[]\n",
    "fitREASYM790LSCO=[]\n",
    "\n",
    "for i in range(len(temparray)):\n",
    "    fitrhosym=[]\n",
    "    fitresym=[]\n",
    "    fitrhoasym=[]\n",
    "    fitreasym=[]\n",
    "    for j in range(k1*k2):\n",
    "        coeff=coeffRHOSYM790LSCO[i][j]\n",
    "        \n",
    "        fitrhosym.append(p10(x, *coeff).tolist())\n",
    "        coeff=coeffRESYM790LSCO[i][j]\n",
    "        \n",
    "        fitresym.append(pwithe(x, *coeff).tolist())\n",
    "        coeff=coeffRHOASYM790LSCO[i][j]\n",
    "        fitrhoasym.append(p9(x, *coeff).tolist())\n",
    "        \n",
    "        coeff=coeffREASYM790LSCO[i][j]\n",
    "        fitreasym.append(p9(x, *coeff).tolist())\n",
    "        \n",
    "    fitRHOSYM790LSCO.append(fitrhosym)\n",
    "    fitRHOASYM790LSCO.append(fitrhoasym)\n",
    "    fitRESYM790LSCO.append(fitresym)\n",
    "    fitREASYM790LSCO.append(fitreasym)\n",
    "    \n",
    "end_time = time.time()\n",
    "elapsed_time = end_time - start_time\n",
    "print(elapsed_time) # in seconds"
   ]
  },
  {
   "cell_type": "code",
   "execution_count": 18,
   "id": "be2b9eb6-af57-49fc-bac2-67e77fd49bab",
   "metadata": {},
   "outputs": [
    {
     "name": "stdout",
     "output_type": "stream",
     "text": [
      "94.81780743598938\n"
     ]
    }
   ],
   "source": [
    "start_time = time.time()\n",
    "\n",
    "fitRHOSYM820LSCO=[]\n",
    "fitRHOASYM820LSCO=[]\n",
    "fitRESYM820LSCO=[]\n",
    "fitREASYM820LSCO=[]\n",
    "\n",
    "for i in range(len(temparray)):\n",
    "    fitrhosym=[]\n",
    "    fitresym=[]\n",
    "    fitrhoasym=[]\n",
    "    fitreasym=[]\n",
    "    for j in range(k1*k2):\n",
    "        coeff=coeffRHOSYM820LSCO[i][j]\n",
    "        \n",
    "        fitrhosym.append(p10(x, *coeff).tolist())\n",
    "        coeff=coeffRESYM820LSCO[i][j]\n",
    "        \n",
    "        fitresym.append(pwithe(x, *coeff).tolist())\n",
    "        coeff=coeffRHOASYM820LSCO[i][j]\n",
    "        fitrhoasym.append(p9(x, *coeff).tolist())\n",
    "        \n",
    "        coeff=coeffREASYM820LSCO[i][j]\n",
    "        fitreasym.append(p9(x, *coeff).tolist())\n",
    "        \n",
    "    fitRHOSYM820LSCO.append(fitrhosym)\n",
    "    fitRHOASYM820LSCO.append(fitrhoasym)\n",
    "    fitRESYM820LSCO.append(fitresym)\n",
    "    fitREASYM820LSCO.append(fitreasym)\n",
    "    \n",
    "end_time = time.time()\n",
    "elapsed_time = end_time - start_time\n",
    "print(elapsed_time) # in seconds"
   ]
  },
  {
   "cell_type": "code",
   "execution_count": 19,
   "id": "1db7b7ce-f340-4e68-9673-073db3f33703",
   "metadata": {},
   "outputs": [
    {
     "name": "stdout",
     "output_type": "stream",
     "text": [
      "75.40098571777344\n"
     ]
    }
   ],
   "source": [
    "start_time = time.time()\n",
    "\n",
    "fitRHOSYM850LSCO=[]\n",
    "fitRHOASYM850LSCO=[]\n",
    "fitRESYM850LSCO=[]\n",
    "fitREASYM850LSCO=[]\n",
    "\n",
    "for i in range(len(temparray)):\n",
    "    fitrhosym=[]\n",
    "    fitresym=[]\n",
    "    fitrhoasym=[]\n",
    "    fitreasym=[]\n",
    "    for j in range(k1*k2):\n",
    "        coeff=coeffRHOSYM850LSCO[i][j]\n",
    "        \n",
    "        fitrhosym.append(p10(x, *coeff).tolist())\n",
    "        coeff=coeffRESYM850LSCO[i][j]\n",
    "        \n",
    "        fitresym.append(pwithe(x, *coeff).tolist())\n",
    "        coeff=coeffRHOASYM850LSCO[i][j]\n",
    "        fitrhoasym.append(p9(x, *coeff).tolist())\n",
    "        \n",
    "        coeff=coeffREASYM850LSCO[i][j]\n",
    "        fitreasym.append(p9(x, *coeff).tolist())\n",
    "        \n",
    "    fitRHOSYM850LSCO.append(fitrhosym)\n",
    "    fitRHOASYM850LSCO.append(fitrhoasym)\n",
    "    fitRESYM850LSCO.append(fitresym)\n",
    "    fitREASYM850LSCO.append(fitreasym)\n",
    "    \n",
    "end_time = time.time()\n",
    "elapsed_time = end_time - start_time\n",
    "print(elapsed_time) # in seconds"
   ]
  },
  {
   "cell_type": "code",
   "execution_count": 20,
   "id": "0cfcfd27-5e19-4e65-b6b9-345065c4db7e",
   "metadata": {},
   "outputs": [
    {
     "name": "stdout",
     "output_type": "stream",
     "text": [
      "188.79639673233032\n"
     ]
    }
   ],
   "source": [
    "start_time = time.time()\n",
    "\n",
    "fitRHOSYM880LSCO=[]\n",
    "fitRHOASYM880LSCO=[]\n",
    "fitRESYM880LSCO=[]\n",
    "fitREASYM880LSCO=[]\n",
    "\n",
    "for i in range(len(temparray)):\n",
    "    fitrhosym=[]\n",
    "    fitresym=[]\n",
    "    fitrhoasym=[]\n",
    "    fitreasym=[]\n",
    "    for j in range(k1*k2):\n",
    "        coeff=coeffRHOSYM880LSCO[i][j]\n",
    "        \n",
    "        fitrhosym.append(p10(x, *coeff).tolist())\n",
    "        coeff=coeffRESYM880LSCO[i][j]\n",
    "        \n",
    "        fitresym.append(pwithe(x, *coeff).tolist())\n",
    "        coeff=coeffRHOASYM880LSCO[i][j]\n",
    "        fitrhoasym.append(p9(x, *coeff).tolist())\n",
    "        \n",
    "        coeff=coeffREASYM880LSCO[i][j]\n",
    "        fitreasym.append(p9(x, *coeff).tolist())\n",
    "        \n",
    "    fitRHOSYM880LSCO.append(fitrhosym)\n",
    "    fitRHOASYM880LSCO.append(fitrhoasym)\n",
    "    fitRESYM880LSCO.append(fitresym)\n",
    "    fitREASYM880LSCO.append(fitreasym)\n",
    "    \n",
    "end_time = time.time()\n",
    "elapsed_time = end_time - start_time\n",
    "print(elapsed_time) # in seconds"
   ]
  },
  {
   "cell_type": "markdown",
   "id": "ff07cf2c-449d-471e-b428-95ee8bd8dc54",
   "metadata": {},
   "source": [
    "\n",
    "\n",
    "VARIOUS FUNCTIONS AND COMPONENTS FOR RECONSTRUCTING SPECTRAL FUNCTIONS, RESISTIVITY:"
   ]
  },
  {
   "cell_type": "code",
   "execution_count": 22,
   "id": "82e982db-790c-497d-9343-5a20cac11607",
   "metadata": {},
   "outputs": [],
   "source": [
    "def bandenergy(x, y, tp, tpp):\n",
    "    return (-2*np.cos(x)-2*np.cos(y)-4*tp*np.cos(x)*np.cos(y)-2*tpp*(np.cos(2*x)+np.cos(2*y)))\n",
    "\n",
    "bandenergyvec=np.vectorize(bandenergy)"
   ]
  },
  {
   "cell_type": "code",
   "execution_count": 23,
   "id": "d3a5ec13-27bf-4ad2-ba7c-70a9e0ed0867",
   "metadata": {},
   "outputs": [],
   "source": [
    "bande=bandenergyvec(k1new,k2new,tp,tpp)\n",
    "ve=omeganew-bande\n",
    "veflat=np.concatenate(ve)"
   ]
  },
  {
   "cell_type": "code",
   "execution_count": 24,
   "id": "0a838c35-59bc-4ec9-b34e-7835390823bc",
   "metadata": {},
   "outputs": [],
   "source": [
    "def depskx(kx,ky): \n",
    "    return 2*t*np.sin(kx) + 4*tp*np.sin(kx)*np.cos(ky) + 4*tpp*np.sin(2*kx)\n",
    "\n",
    "ux = 1.0\n",
    "uy = 0.0\n",
    "\n",
    "def dF(x, tau): #derivative_Fermi_function_over_beta(x, tau):\n",
    "    if x/tau <= -20.0:\n",
    "        return 0.0;\n",
    "    elif x/tau >= 20.0:\n",
    "        return 0.0\n",
    "    else:\n",
    "        return -1.0/ (2.0 * np.cosh(x / (2.0 * tau)))**2\n",
    "    \n",
    "dFvec=np.vectorize(dF)\n",
    "depsvec=np.vectorize(depskx)"
   ]
  },
  {
   "cell_type": "code",
   "execution_count": 25,
   "id": "2a435d05-a272-4549-b9c7-8d4519d618fa",
   "metadata": {},
   "outputs": [],
   "source": [
    "def flatten(matrix):\n",
    "    flat_list = []\n",
    "    for row in matrix:\n",
    "        flat_list += row\n",
    "    return flat_list"
   ]
  },
  {
   "cell_type": "code",
   "execution_count": 26,
   "id": "c0352209-d284-43e1-ac27-6391c34616ab",
   "metadata": {},
   "outputs": [],
   "source": [
    "flatRHOSYM760LSCO=[]\n",
    "flatRESYM760LSCO=[]\n",
    "flatRHOASYM760LSCO=[]\n",
    "flatREASYM760LSCO=[]\n",
    "for i in range(len(temparray[2:])):\n",
    "    flatRHOSYM760LSCO.append(flatten(fitRHOSYM760LSCO[i]))\n",
    "    flatRHOASYM760LSCO.append(flatten(fitRHOASYM760LSCO[i]))\n",
    "    flatRESYM760LSCO.append(flatten(fitRESYM760LSCO[i]))\n",
    "    flatREASYM760LSCO.append(flatten(fitREASYM760LSCO[i]))\n",
    "\n",
    "flatRHOSYM790LSCO=[]\n",
    "flatRESYM790LSCO=[]\n",
    "flatRHOASYM790LSCO=[]\n",
    "flatREASYM790LSCO=[]\n",
    "for i in range(len(temparray)):\n",
    "    flatRHOSYM790LSCO.append(flatten(fitRHOSYM790LSCO[i]))\n",
    "    flatRHOASYM790LSCO.append(flatten(fitRHOASYM790LSCO[i]))\n",
    "    flatRESYM790LSCO.append(flatten(fitRESYM790LSCO[i]))\n",
    "    flatREASYM790LSCO.append(flatten(fitREASYM790LSCO[i]))\n",
    "\n",
    "flatRHOSYM820LSCO=[]\n",
    "flatRESYM820LSCO=[]\n",
    "flatRHOASYM820LSCO=[]\n",
    "flatREASYM820LSCO=[]\n",
    "for i in range(len(temparray)):\n",
    "    flatRHOSYM820LSCO.append(flatten(fitRHOSYM820LSCO[i]))\n",
    "    flatRHOASYM820LSCO.append(flatten(fitRHOASYM820LSCO[i]))\n",
    "    flatRESYM820LSCO.append(flatten(fitRESYM820LSCO[i]))\n",
    "    flatREASYM820LSCO.append(flatten(fitREASYM820LSCO[i]))\n",
    "\n",
    "flatRHOSYM850LSCO=[]\n",
    "flatRESYM850LSCO=[]\n",
    "flatRHOASYM850LSCO=[]\n",
    "flatREASYM850LSCO=[]\n",
    "for i in range(len(temparray)):\n",
    "    flatRHOSYM850LSCO.append(flatten(fitRHOSYM850LSCO[i]))\n",
    "    flatRHOASYM850LSCO.append(flatten(fitRHOASYM850LSCO[i]))\n",
    "    flatRESYM850LSCO.append(flatten(fitRESYM850LSCO[i]))\n",
    "    flatREASYM850LSCO.append(flatten(fitREASYM850LSCO[i]))\n",
    "\n",
    "flatRHOSYM880LSCO=[]\n",
    "flatRESYM880LSCO=[]\n",
    "flatRHOASYM880LSCO=[]\n",
    "flatREASYM880LSCO=[]\n",
    "for i in range(len(temparray)):\n",
    "    flatRHOSYM880LSCO.append(flatten(fitRHOSYM880LSCO[i]))\n",
    "    flatRHOASYM880LSCO.append(flatten(fitRHOASYM880LSCO[i]))\n",
    "    flatRESYM880LSCO.append(flatten(fitRESYM880LSCO[i]))\n",
    "    flatREASYM880LSCO.append(flatten(fitREASYM880LSCO[i]))"
   ]
  },
  {
   "cell_type": "markdown",
   "id": "cdf51e94-5cab-4e90-adba-16ae801ffc28",
   "metadata": {},
   "source": [
    "\n",
    "\n",
    "SPECTRAL FUNCTIONS ρG:"
   ]
  },
  {
   "cell_type": "code",
   "execution_count": 28,
   "id": "b3d182d6-81fd-4477-b1cf-ded62d2fe2be",
   "metadata": {},
   "outputs": [
    {
     "name": "stdout",
     "output_type": "stream",
     "text": [
      "19.391834259033203\n"
     ]
    }
   ],
   "source": [
    "start_time = time.time()\n",
    "\n",
    "RHOG760LSCO=[]\n",
    "for i in range(len(temparray[2:])):\n",
    "    refcn=np.add(np.add(flatREASYM760LSCO[i],flatRESYM760LSCO[i]),np.repeat(y0RE760LSCO[i],len(ve[0])))\n",
    "    rhfcn=np.add(np.add(flatRHOASYM760LSCO[i],flatRHOSYM760LSCO[i]),np.repeat(y0RHO760LSCO[i],len(ve[0])))\n",
    "    denom=np.add(np.add(np.add(np.power(refcn,2),np.power(np.pi*rhfcn,2)), -2*np.multiply(refcn,veflat+mu760LSCO[i][0][0])),np.power(veflat+mu760LSCO[i][0][0],2))\n",
    "    rhoG=np.divide(rhfcn, denom)\n",
    "    RHOG760LSCO.append(rhoG)\n",
    "\n",
    "end_time = time.time()\n",
    "elapsed_time = end_time - start_time\n",
    "print(elapsed_time) # in seconds"
   ]
  },
  {
   "cell_type": "code",
   "execution_count": 29,
   "id": "78eb3e18-3296-4904-bf97-e2fd757dc7bd",
   "metadata": {},
   "outputs": [],
   "source": [
    "RHOG790LSCO=[]\n",
    "for i in range(len(temparray)):\n",
    "    refcn=np.add(np.add(flatREASYM790LSCO[i],flatRESYM790LSCO[i]),np.repeat(y0RE790LSCO[i],len(ve[0])))\n",
    "    rhfcn=np.add(np.add(flatRHOASYM790LSCO[i],flatRHOSYM790LSCO[i]),np.repeat(y0RHO790LSCO[i],len(ve[0])))\n",
    "    denom=np.add(np.add(np.add(np.power(refcn,2),np.power(np.pi*rhfcn,2)), -2*np.multiply(refcn,veflat+mu790LSCO[i][0][0])),np.power(veflat+mu790LSCO[i][0][0],2))\n",
    "    rhoG=np.divide(rhfcn, denom)\n",
    "    RHOG790LSCO.append(rhoG)"
   ]
  },
  {
   "cell_type": "code",
   "execution_count": 30,
   "id": "cecdecad-8a88-4228-ad57-af2465a705e0",
   "metadata": {},
   "outputs": [],
   "source": [
    "RHOG820LSCO=[]\n",
    "for i in range(len(temparray)):\n",
    "    refcn=np.add(np.add(flatREASYM820LSCO[i],flatRESYM820LSCO[i]),np.repeat(y0RE820LSCO[i],len(ve[0])))\n",
    "    rhfcn=np.add(np.add(flatRHOASYM820LSCO[i],flatRHOSYM820LSCO[i]),np.repeat(y0RHO820LSCO[i],len(ve[0])))\n",
    "    denom=np.add(np.add(np.add(np.power(refcn,2),np.power(np.pi*rhfcn,2)), -2*np.multiply(refcn,veflat+mu820LSCO[i][0][0])),np.power(veflat+mu820LSCO[i][0][0],2))\n",
    "    rhoG=np.divide(rhfcn, denom)\n",
    "    RHOG820LSCO.append(rhoG)"
   ]
  },
  {
   "cell_type": "code",
   "execution_count": 31,
   "id": "effa76e6-b9ca-49c3-a980-fe850c130c83",
   "metadata": {},
   "outputs": [],
   "source": [
    "RHOG850LSCO=[]\n",
    "for i in range(len(temparray)):\n",
    "    refcn=np.add(np.add(flatREASYM850LSCO[i],flatRESYM850LSCO[i]),np.repeat(y0RE850LSCO[i],len(ve[0])))\n",
    "    rhfcn=np.add(np.add(flatRHOASYM850LSCO[i],flatRHOSYM850LSCO[i]),np.repeat(y0RHO850LSCO[i],len(ve[0])))\n",
    "    denom=np.add(np.add(np.add(np.power(refcn,2),np.power(np.pi*rhfcn,2)), -2*np.multiply(refcn,veflat+mu850LSCO[i][0][0])),np.power(veflat+mu850LSCO[i][0][0],2))\n",
    "    rhoG=np.divide(rhfcn, denom)\n",
    "    RHOG850LSCO.append(rhoG)"
   ]
  },
  {
   "cell_type": "code",
   "execution_count": 32,
   "id": "bece91cc-4fb8-44d6-b43c-e206c439c03d",
   "metadata": {},
   "outputs": [],
   "source": [
    "RHOG880LSCO=[]\n",
    "for i in range(len(temparray)):\n",
    "    refcn=np.add(np.add(flatREASYM880LSCO[i],flatRESYM880LSCO[i]),np.repeat(y0RE880LSCO[i],len(ve[0])))\n",
    "    rhfcn=np.add(np.add(flatRHOASYM880LSCO[i],flatRHOSYM880LSCO[i]),np.repeat(y0RHO880LSCO[i],len(ve[0])))\n",
    "    denom=np.add(np.add(np.add(np.power(refcn,2),np.power(np.pi*rhfcn,2)), -2*np.multiply(refcn,veflat+mu880LSCO[i][0][0])),np.power(veflat+mu880LSCO[i][0][0],2))\n",
    "    rhoG=np.divide(rhfcn, denom)\n",
    "    RHOG880LSCO.append(rhoG)"
   ]
  },
  {
   "cell_type": "code",
   "execution_count": 33,
   "id": "fde07bc2-270b-4a9d-b926-8cd37b2bb9e9",
   "metadata": {},
   "outputs": [],
   "source": [
    "omegaflat=flatten(omeganew)\n",
    "k1flat=flatten(k1new)\n",
    "k2flat=flatten(k2new)"
   ]
  },
  {
   "cell_type": "markdown",
   "id": "4ea4a87c-e77b-473b-b367-e519ad48bc7a",
   "metadata": {},
   "source": [
    "\n",
    "\n",
    "RESISTIVITY FROM SPECTRAL FUNCTIONS:"
   ]
  },
  {
   "cell_type": "code",
   "execution_count": 35,
   "id": "6cc28257-8ec6-4085-a415-f0b8d7b76292",
   "metadata": {},
   "outputs": [
    {
     "name": "stdout",
     "output_type": "stream",
     "text": [
      "114.73777914047241\n"
     ]
    }
   ],
   "source": [
    "start_time = time.time()\n",
    "\n",
    "sigxx760LSCO=[]\n",
    "for i in range(len(temparray[2:])):\n",
    "    tau=temparray[i]\n",
    "    sigarr=np.multiply(np.multiply(-dFvec(omegaflat,tau),np.power(RHOG760LSCO[i],2)),np.power(depsvec(k1flat,k2flat),2))\n",
    "    sigxxpart=sigarr.sum()\n",
    "    DELTAomega=finalv[2]-finalv[1] # original spacing gets rid of the 0.04 and scales omega back\n",
    "    sigxxfit=sigxxpart*((2*np.pi)**2) * DELTAomega / (tau * k1 * k2)\n",
    "    sigxx760LSCO.append(sigxxfit)\n",
    "rhoxx760LSCO=np.divide(1,sigxx760LSCO)\n",
    "\n",
    "end_time = time.time()\n",
    "elapsed_time = end_time - start_time\n",
    "print(elapsed_time) # in seconds"
   ]
  },
  {
   "cell_type": "code",
   "execution_count": 36,
   "id": "10a574f3-adad-48b7-a363-76a40e3f5f74",
   "metadata": {},
   "outputs": [],
   "source": [
    "sigxx790LSCO=[]\n",
    "for i in range(len(temparray)):\n",
    "    tau=temparray[i]\n",
    "    sigarr=np.multiply(np.multiply(-dFvec(omegaflat,tau),np.power(RHOG790LSCO[i],2)),np.power(depsvec(k1flat,k2flat),2))\n",
    "    sigxxpart=sigarr.sum()\n",
    "    DELTAomega=finalv[2]-finalv[1]  \n",
    "    sigxxfit=sigxxpart*((2*np.pi)**2) * DELTAomega / (tau * k1 * k2)\n",
    "    sigxx790LSCO.append(sigxxfit)\n",
    "rhoxx790LSCO=np.divide(1,sigxx790LSCO)"
   ]
  },
  {
   "cell_type": "code",
   "execution_count": 37,
   "id": "e3ae1a07-1ac8-4970-84c4-c970cddf8c74",
   "metadata": {},
   "outputs": [],
   "source": [
    "sigxx820LSCO=[]\n",
    "for i in range(len(temparray)):\n",
    "    tau=temparray[i]\n",
    "    sigarr=np.multiply(np.multiply(-dFvec(omegaflat,tau),np.power(RHOG820LSCO[i],2)),np.power(depsvec(k1flat,k2flat),2))\n",
    "    sigxxpart=sigarr.sum()\n",
    "    DELTAomega=finalv[2]-finalv[1]  \n",
    "    sigxxfit=sigxxpart*((2*np.pi)**2) * DELTAomega / (tau * k1 * k2)\n",
    "    sigxx820LSCO.append(sigxxfit)\n",
    "rhoxx820LSCO=np.divide(1,sigxx820LSCO)"
   ]
  },
  {
   "cell_type": "code",
   "execution_count": 38,
   "id": "3afc4d01-ea7e-4937-a417-94eec6c0e3c6",
   "metadata": {},
   "outputs": [],
   "source": [
    "sigxx850LSCO=[]\n",
    "for i in range(len(temparray)):\n",
    "    tau=temparray[i]\n",
    "    sigarr=np.multiply(np.multiply(-dFvec(omegaflat,tau),np.power(RHOG850LSCO[i],2)),np.power(depsvec(k1flat,k2flat),2))\n",
    "    sigxxpart=sigarr.sum()\n",
    "    DELTAomega=finalv[2]-finalv[1]  \n",
    "    sigxxfit=sigxxpart*((2*np.pi)**2) * DELTAomega / (tau * k1 * k2)\n",
    "    sigxx850LSCO.append(sigxxfit)\n",
    "rhoxx850LSCO=np.divide(1,sigxx850LSCO)"
   ]
  },
  {
   "cell_type": "code",
   "execution_count": 39,
   "id": "45fcf82d-4e3d-43d3-ba18-1afdae2dee38",
   "metadata": {},
   "outputs": [],
   "source": [
    "sigxx880LSCO=[]\n",
    "for i in range(len(temparray)):\n",
    "    tau=temparray[i]\n",
    "    sigarr=np.multiply(np.multiply(-dFvec(omegaflat,tau),np.power(RHOG880LSCO[i],2)),np.power(depsvec(k1flat,k2flat),2))\n",
    "    sigxxpart=sigarr.sum()\n",
    "    DELTAomega=finalv[2]-finalv[1]  \n",
    "    sigxxfit=sigxxpart*((2*np.pi)**2) * DELTAomega / (tau * k1 * k2)\n",
    "    sigxx880LSCO.append(sigxxfit)\n",
    "rhoxx880LSCO=np.divide(1,sigxx880LSCO)"
   ]
  },
  {
   "cell_type": "markdown",
   "id": "5e8106e3-9a0d-45b2-8be0-cfcd07a9c1a0",
   "metadata": {},
   "source": [
    "\n",
    "\n",
    "EXAMPLE PLOTS:"
   ]
  },
  {
   "cell_type": "code",
   "execution_count": 41,
   "id": "e3687e78-240e-4282-9a66-a96f3e7b4ff7",
   "metadata": {},
   "outputs": [
    {
     "data": {
      "image/png": "[encoded data removed]",
      "text/plain": [
       "<Figure size 640x480 with 1 Axes>"
      ]
     },
     "metadata": {},
     "output_type": "display_data"
    }
   ],
   "source": [
    "# spectral function data for the first (kx, ky) value (0, 0) in the n=0.710 data\n",
    "# data is displayed with an interpolation\n",
    "\n",
    "# first index in RHOG790LSCO is temperature, inside that is a list of 92x92 sequential 43 point spectral functions\n",
    "# The first of these, at kx=0 and ky=0, is shown below\n",
    "# To find the kx and ky value for a point in RHOG790LSCO you can check the same index in k1flat, k2flat\n",
    "\n",
    "spl=interpolate.InterpolatedUnivariateSpline(omeganew[0],RHOG790LSCO[0][0:43])\n",
    "omega=np.linspace(omeganew[0][0],omeganew[0][-1],500)\n",
    "plt.plot(omega,spl(omega))\n",
    "plt.plot(omeganew[0],RHOG790LSCO[0][0:43],'o')\n",
    "plt.title(\"ρG (kx=ky=0)\")\n",
    "plt.xlabel(\"ω\")\n",
    "plt.show()"
   ]
  },
  {
   "cell_type": "code",
   "execution_count": 83,
   "id": "b4431c05-4989-4555-b713-bd0d08bce48a",
   "metadata": {
    "scrolled": true
   },
   "outputs": [
    {
     "data": {
      "image/png": "[encoded data removed]",
      "text/plain": [
       "<Figure size 640x480 with 1 Axes>"
      ]
     },
     "metadata": {},
     "output_type": "display_data"
    }
   ],
   "source": [
    "# one of the resistivity plots\n",
    "# this is in dimensionless units, units we used can be found in the paper\n",
    "\n",
    "plt.plot(temparray,rhoxx790LSCO,'o')\n",
    "plt.title(\"Polynomial Reproduction of Resistivity, n=0.790\")\n",
    "plt.ylabel(\"ρ\")\n",
    "plt.xlabel(\"T\")\n",
    "plt.show()"
   ]
  },
  {
   "cell_type": "markdown",
   "id": "9dae994b-1783-40b2-b3c5-f4ca345b676e",
   "metadata": {},
   "source": [
    "INTERPOLATION"
   ]
  },
  {
   "cell_type": "code",
   "execution_count": 44,
   "id": "21c048d4-7de5-46fc-90fa-43888395add1",
   "metadata": {},
   "outputs": [],
   "source": [
    "# an easy way to estimate resistivities at new densities from our results:\n",
    "\n",
    "rhoarr=[rhoxx760LSCO,rhoxx790LSCO,rhoxx820LSCO,rhoxx850LSCO,rhoxx880LSCO]\n",
    "rhoarr=[rho.tolist() for rho in rhoarr]\n",
    "densities=[0.760,0.790,0.820,0.850,0.880];\n",
    "\n",
    "\n",
    "tvals=np.tile(temparray,len(densities)).tolist()\n",
    "tvals=tvals[2:]                # cut out two points since 0.760 didn't work at lowest two T\n",
    "nvals=np.repeat(densities,len(temparray)).tolist()\n",
    "nvals=nvals[2:]\n",
    "rhovals=flatten(rhoarr)\n",
    "\n",
    "\n",
    "\n",
    "\n",
    "X = np.linspace(min(tvals), max(tvals))\n",
    "Y = np.linspace(min(nvals), max(nvals))\n",
    "X, Y = np.meshgrid(X,Y)\n",
    "interp = interpolate.LinearNDInterpolator(list(zip(tvals, nvals)), rhovals)\n",
    "Z = interp(X, Y)"
   ]
  },
  {
   "cell_type": "code",
   "execution_count": 45,
   "id": "0d6bb6a2-85d7-4e75-945f-5e416316e29d",
   "metadata": {},
   "outputs": [
    {
     "data": {
      "image/png": "[encoded data removed]",
      "text/plain": [
       "<Figure size 640x480 with 1 Axes>"
      ]
     },
     "metadata": {},
     "output_type": "display_data"
    }
   ],
   "source": [
    "# demonstrating interpolation:\n",
    "\n",
    "density=0.81\n",
    "\n",
    "plt.plot(temparray,interp(temparray,density),'k-')\n",
    "plt.title(\"Resistivity Interpolation at n = %1.3f\" % density)\n",
    "plt.ylabel(\"ρ\")\n",
    "plt.xlabel(\"T\")\n",
    "plt.show()"
   ]
  },
  {
   "cell_type": "code",
   "execution_count": null,
   "id": "7d6dbd60-af8b-485c-b407-793a4ab9ad9a",
   "metadata": {},
   "outputs": [],
   "source": []
  }
 ],
 "metadata": {
  "kernelspec": {
   "display_name": "Python [conda env:base] *",
   "language": "python",
   "name": "conda-base-py"
  },
  "language_info": {
   "codemirror_mode": {
    "name": "ipython",
    "version": 3
   },
   "file_extension": ".py",
   "mimetype": "text/x-python",
   "name": "python",
   "nbconvert_exporter": "python",
   "pygments_lexer": "ipython3",
   "version": "3.9.20"
  }
 },
 "nbformat": 4,
 "nbformat_minor": 5
}
