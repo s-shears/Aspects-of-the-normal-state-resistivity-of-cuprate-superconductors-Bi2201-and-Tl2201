{
 "cells": [
  {
   "cell_type": "markdown",
   "id": "da6b3331-2378-48d2-8e81-c54a75059d01",
   "metadata": {},
   "source": [
    "INITIALIZE:"
   ]
  },
  {
   "cell_type": "code",
   "execution_count": 2,
   "id": "05106baa-da3e-4aa7-bbc6-690ec7e318e0",
   "metadata": {},
   "outputs": [],
   "source": [
    "import numpy as np\n",
    "import matplotlib.pyplot as plt\n",
    "import scipy\n",
    "import scipy.interpolate as interpolate\n",
    "import time"
   ]
  },
  {
   "cell_type": "markdown",
   "id": "4762ffd1-6886-4bf2-b761-6acf2ae91e5f",
   "metadata": {},
   "source": [
    "PARAMETERS/INITIAL ARRAYS:"
   ]
  },
  {
   "cell_type": "code",
   "execution_count": 4,
   "id": "a28dd52f-43d6-45f0-a3e9-2d5a4a9e056b",
   "metadata": {},
   "outputs": [],
   "source": [
    "t=1\n",
    "tp=-0.200\n",
    "tpp=0.000\n",
    "\n",
    "k1=92\n",
    "k2=92\n",
    "Nexp=12\n",
    "D=50"
   ]
  },
  {
   "cell_type": "code",
   "execution_count": 5,
   "id": "9bfc148a-b5da-437b-82a0-864bdb12baed",
   "metadata": {},
   "outputs": [],
   "source": [
    "temparray=[0.0067050, 0.0076628, 0.0086207, 0.0095785, 0.0105364 , 0.0114943, 0.0124521, 0.0134100, 0.0143678, 0.0153257, 0.0162835, 0.0172414, 0.0181992, 0.0191571, 0.0201149, 0.0210728, 0.0220307, 0.0229885, 0.0239464, 0.0249042, 0.0258621, 0.0268199, 0.0277778, 0.0287356, 0.0296935, 0.0306513, 0.0316092, 0.0325670, 0.0335349, 0.0344828, 0.0354406, 0.0363985, 0.0373563, 0.0383142, 0.0402299, 0.0421456, 0.0440613, 0.0459770, 0.0478927, 0.0498084, 0.0517241, 0.0536398, 0.0555556, 0.0574713, 0.0593870, 0.0613027, 0.0632184, 0.0651341, 0.0670498, 0.0689655, 0.0708812, 0.0727969, 0.0747126, 0.0766284]\n",
    "tempnames=[('%.4f' %temp) for temp in temparray];"
   ]
  },
  {
   "cell_type": "code",
   "execution_count": 6,
   "id": "ca627b59-1205-4888-9dba-f5cdd9fd899c",
   "metadata": {},
   "outputs": [],
   "source": [
    "sizev=2**Nexp \n",
    "sizee=k1*k2\n",
    "sizek=k1\n",
    "\n",
    "krange=np.linspace(0,2*np.pi-(2*np.pi/sizek),sizek)\n",
    "vrange=np.linspace(-D,D-((2*D)/sizev),sizev) \n",
    "\n",
    "finalk1=np.zeros(k1*k2*(2**Nexp)).tolist()\n",
    "finalk2=np.zeros(k1*k2*(2**Nexp)).tolist()\n",
    "finalv=np.zeros(k1*k2*(2**Nexp)).tolist()\n",
    "for i in range(sizek):            \n",
    "    for j in range(sizek):\n",
    "        for k in range(sizev):  \n",
    "            m=k+sizev*(j+sizek*i)      \n",
    "            finalk1[m]=krange[i]\n",
    "            finalk2[m]=krange[j]\n",
    "            finalv[m]=vrange[k]"
   ]
  },
  {
   "cell_type": "markdown",
   "id": "eb62ca5c-6bf3-47d7-888c-cfc49c75b084",
   "metadata": {},
   "source": [
    "\n",
    "\n",
    "IMPORTS:"
   ]
  },
  {
   "cell_type": "code",
   "execution_count": 8,
   "id": "24c46387-904e-4547-b58f-fc5643eb2529",
   "metadata": {},
   "outputs": [],
   "source": [
    "lists = []\n",
    "with open('760BSLCOdata.txt', 'r') as f:\n",
    "    contents = f.read().split('\\n---\\n') \n",
    "    for list_section in contents:\n",
    "        if list_section.strip():\n",
    "            array_list = []\n",
    "            lines = list_section.splitlines()\n",
    "            for line in lines:\n",
    "                if not line.strip() or line.startswith(\"List\") or line.startswith(\"Array\"):\n",
    "                    continue\n",
    "                array_list.append(np.fromstring(line, sep=' ', dtype=float))\n",
    "            lists.append(array_list)\n",
    "\n",
    "coeffRHOSYM760BSLCO = [[arr[0:5] for arr in sublist] for sublist in lists]\n",
    "coeffRHOASYM760BSLCO = [[arr[5:10] for arr in sublist] for sublist in lists]\n",
    "coeffRESYM760BSLCO = [[arr[10:16] for arr in sublist] for sublist in lists]\n",
    "coeffREASYM760BSLCO = [[arr[16:21] for arr in sublist] for sublist in lists]\n",
    "y0RHO760BSLCO = [[arr[21:22] for arr in sublist] for sublist in lists]\n",
    "y0RE760BSLCO = [[arr[22:23] for arr in sublist] for sublist in lists]\n",
    "mu760BSLCO = [[arr[23:24] for arr in sublist] for sublist in lists]\n",
    "\n",
    "del lists"
   ]
  },
  {
   "cell_type": "code",
   "execution_count": 9,
   "id": "ce5e6d77-1469-46fe-aa11-19b8d37a75dd",
   "metadata": {},
   "outputs": [],
   "source": [
    "lists = []\n",
    "with open('790BSLCOdata.txt', 'r') as f:\n",
    "    contents = f.read().split('\\n---\\n')  \n",
    "    for list_section in contents:\n",
    "        if list_section.strip():  \n",
    "            array_list = []\n",
    "            lines = list_section.splitlines()\n",
    "            for line in lines:\n",
    "                if not line.strip() or line.startswith(\"List\") or line.startswith(\"Array\"):\n",
    "                    continue\n",
    "                array_list.append(np.fromstring(line, sep=' ', dtype=float))\n",
    "            lists.append(array_list)\n",
    "\n",
    "coeffRHOSYM790BSLCO = [[arr[0:5] for arr in sublist] for sublist in lists]\n",
    "coeffRHOASYM790BSLCO = [[arr[5:10] for arr in sublist] for sublist in lists]\n",
    "coeffRESYM790BSLCO = [[arr[10:16] for arr in sublist] for sublist in lists]\n",
    "coeffREASYM790BSLCO = [[arr[16:21] for arr in sublist] for sublist in lists]\n",
    "y0RHO790BSLCO = [[arr[21:22] for arr in sublist] for sublist in lists]\n",
    "y0RE790BSLCO = [[arr[22:23] for arr in sublist] for sublist in lists]\n",
    "mu790BSLCO = [[arr[23:24] for arr in sublist] for sublist in lists]\n",
    "\n",
    "del lists"
   ]
  },
  {
   "cell_type": "code",
   "execution_count": 10,
   "id": "90661a28-c957-4890-8227-bf6ef72b8541",
   "metadata": {},
   "outputs": [],
   "source": [
    "lists = []\n",
    "with open('820BSLCOdata.txt', 'r') as f:\n",
    "    contents = f.read().split('\\n---\\n')  \n",
    "    for list_section in contents:\n",
    "        if list_section.strip():  \n",
    "            array_list = []\n",
    "            lines = list_section.splitlines()\n",
    "            for line in lines:\n",
    "                if not line.strip() or line.startswith(\"List\") or line.startswith(\"Array\"):\n",
    "                    continue\n",
    "                array_list.append(np.fromstring(line, sep=' ', dtype=float))\n",
    "            lists.append(array_list)\n",
    "\n",
    "coeffRHOSYM820BSLCO = [[arr[0:5] for arr in sublist] for sublist in lists]\n",
    "coeffRHOASYM820BSLCO = [[arr[5:10] for arr in sublist] for sublist in lists]\n",
    "coeffRESYM820BSLCO = [[arr[10:16] for arr in sublist] for sublist in lists]\n",
    "coeffREASYM820BSLCO = [[arr[16:21] for arr in sublist] for sublist in lists]\n",
    "y0RHO820BSLCO = [[arr[21:22] for arr in sublist] for sublist in lists]\n",
    "y0RE820BSLCO = [[arr[22:23] for arr in sublist] for sublist in lists]\n",
    "mu820BSLCO = [[arr[23:24] for arr in sublist] for sublist in lists]\n",
    "\n",
    "del lists"
   ]
  },
  {
   "cell_type": "code",
   "execution_count": 11,
   "id": "29879657-d9a0-4229-9d47-56eb6b4ee299",
   "metadata": {},
   "outputs": [],
   "source": [
    "lists = []\n",
    "with open('850BSLCOdata.txt', 'r') as f:\n",
    "    contents = f.read().split('\\n---\\n')  \n",
    "    for list_section in contents:\n",
    "        if list_section.strip():  \n",
    "            array_list = []\n",
    "            lines = list_section.splitlines()\n",
    "            for line in lines:\n",
    "                if not line.strip() or line.startswith(\"List\") or line.startswith(\"Array\"):\n",
    "                    continue\n",
    "                array_list.append(np.fromstring(line, sep=' ', dtype=float))\n",
    "            lists.append(array_list)\n",
    "\n",
    "coeffRHOSYM850BSLCO = [[arr[0:5] for arr in sublist] for sublist in lists]\n",
    "coeffRHOASYM850BSLCO = [[arr[5:10] for arr in sublist] for sublist in lists]\n",
    "coeffRESYM850BSLCO = [[arr[10:16] for arr in sublist] for sublist in lists]\n",
    "coeffREASYM850BSLCO = [[arr[16:21] for arr in sublist] for sublist in lists]\n",
    "y0RHO850BSLCO = [[arr[21:22] for arr in sublist] for sublist in lists]\n",
    "y0RE850BSLCO = [[arr[22:23] for arr in sublist] for sublist in lists]\n",
    "mu850BSLCO = [[arr[23:24] for arr in sublist] for sublist in lists]\n",
    "\n",
    "del lists"
   ]
  },
  {
   "cell_type": "code",
   "execution_count": 12,
   "id": "5bb95fe9-6cc5-457c-8c5f-c8e2300617a7",
   "metadata": {},
   "outputs": [],
   "source": [
    "lists = []\n",
    "with open('880BSLCOdata.txt', 'r') as f:\n",
    "    contents = f.read().split('\\n---\\n')  \n",
    "    for list_section in contents:\n",
    "        if list_section.strip():  \n",
    "            array_list = []\n",
    "            lines = list_section.splitlines()\n",
    "            for line in lines:\n",
    "                if not line.strip() or line.startswith(\"List\") or line.startswith(\"Array\"):\n",
    "                    continue\n",
    "                array_list.append(np.fromstring(line, sep=' ', dtype=float))\n",
    "            lists.append(array_list)\n",
    "\n",
    "coeffRHOSYM880BSLCO = [[arr[0:5] for arr in sublist] for sublist in lists]\n",
    "coeffRHOASYM880BSLCO = [[arr[5:10] for arr in sublist] for sublist in lists]\n",
    "coeffRESYM880BSLCO = [[arr[10:16] for arr in sublist] for sublist in lists]\n",
    "coeffREASYM880BSLCO = [[arr[16:21] for arr in sublist] for sublist in lists]\n",
    "y0RHO880BSLCO = [[arr[21:22] for arr in sublist] for sublist in lists]\n",
    "y0RE880BSLCO = [[arr[22:23] for arr in sublist] for sublist in lists]\n",
    "mu880BSLCO = [[arr[23:24] for arr in sublist] for sublist in lists]\n",
    "\n",
    "del lists"
   ]
  },
  {
   "cell_type": "markdown",
   "id": "53e62813-e871-400b-9e87-2e26aca4ef10",
   "metadata": {},
   "source": [
    "\n",
    "\n",
    "MAKE POLYNOMIALS FROM IMPORT DATA:"
   ]
  },
  {
   "cell_type": "code",
   "execution_count": 14,
   "id": "68fabd41-1b8d-4589-b216-e40a1f438e4b",
   "metadata": {},
   "outputs": [],
   "source": [
    "# Polynomials were fit over a small range in the center of the frequency domain (where most of the spectral weight is concentrated)\n",
    "\n",
    "omeganew=[finalv[int((2**12)*i+int((2**12-1)/2)-20):int((2**12)*i+int((2**12-1)/2)+23)] for i in range(k1*k2)]\n",
    "k1new=[finalk1[int((2**12)*i+int((2**12-1)/2)-20):int((2**12)*i+int((2**12-1)/2)+23)] for i in range(k1*k2)]\n",
    "k2new=[finalk2[int((2**12)*i+int((2**12-1)/2)-20):int((2**12)*i+int((2**12-1)/2)+23)] for i in range(k1*k2)]\n",
    "\n",
    "# scaled for numerical stability, scaled back later\n",
    "omegac=0.04\n",
    "x=np.array(omeganew[0])/omegac"
   ]
  },
  {
   "cell_type": "code",
   "execution_count": 15,
   "id": "6ea54a0e-941a-47e1-baa9-848a5a466f3b",
   "metadata": {},
   "outputs": [],
   "source": [
    "def p9(x, b, d, f, h, j): \n",
    "    return b*x + d*x**3 + f*x**5 + h*x**7 + j*x**9\n",
    "\n",
    "def p10(x, c, e, g, i, n): \n",
    "    return (c*x**2 + e*x**4 + g*x**6 + i*x**8 + n*x**10)\n",
    "\n",
    "def pwithe(x, a, c, e, g, n,m ): \n",
    "    return np.exp(-a*x**2)*(c*x**2 + e*x**4 + g*x**6 + n*x**8 + m*x**10)"
   ]
  },
  {
   "cell_type": "code",
   "execution_count": 16,
   "id": "438957ee-6266-4bb7-99ca-380f61f7eaab",
   "metadata": {},
   "outputs": [
    {
     "name": "stdout",
     "output_type": "stream",
     "text": [
      "67.8785572052002\n"
     ]
    }
   ],
   "source": [
    "start_time = time.time()\n",
    "# should take a minute or two each\n",
    "\n",
    "fitRHOSYM760BSLCO=[]\n",
    "fitRHOASYM760BSLCO=[]\n",
    "fitRESYM760BSLCO=[]\n",
    "fitREASYM760BSLCO=[]\n",
    "\n",
    "for i in range(len(temparray)):\n",
    "    fitrhosym=[]\n",
    "    fitresym=[]\n",
    "    fitrhoasym=[]\n",
    "    fitreasym=[]\n",
    "    for j in range(k1*k2):\n",
    "        coeff=coeffRHOSYM760BSLCO[i][j]\n",
    "        \n",
    "        fitrhosym.append(p10(x, *coeff).tolist())\n",
    "        coeff=coeffRESYM760BSLCO[i][j]\n",
    "        \n",
    "        fitresym.append(pwithe(x, *coeff).tolist())\n",
    "        coeff=coeffRHOASYM760BSLCO[i][j]\n",
    "        fitrhoasym.append(p9(x, *coeff).tolist())\n",
    "        \n",
    "        coeff=coeffREASYM760BSLCO[i][j]\n",
    "        fitreasym.append(p9(x, *coeff).tolist())\n",
    "        \n",
    "    fitRHOSYM760BSLCO.append(fitrhosym)\n",
    "    fitRHOASYM760BSLCO.append(fitrhoasym)\n",
    "    fitRESYM760BSLCO.append(fitresym)\n",
    "    fitREASYM760BSLCO.append(fitreasym)\n",
    "    \n",
    "end_time = time.time()\n",
    "elapsed_time = end_time - start_time\n",
    "print(elapsed_time) # in seconds"
   ]
  },
  {
   "cell_type": "code",
   "execution_count": 17,
   "id": "6d126f0b-f09c-4ccc-a9c6-719bab9273eb",
   "metadata": {},
   "outputs": [
    {
     "name": "stdout",
     "output_type": "stream",
     "text": [
      "63.5707573890686\n"
     ]
    }
   ],
   "source": [
    "start_time = time.time()\n",
    "\n",
    "fitRHOSYM790BSLCO=[]\n",
    "fitRHOASYM790BSLCO=[]\n",
    "fitRESYM790BSLCO=[]\n",
    "fitREASYM790BSLCO=[]\n",
    "\n",
    "for i in range(len(temparray)):\n",
    "    fitrhosym=[]\n",
    "    fitresym=[]\n",
    "    fitrhoasym=[]\n",
    "    fitreasym=[]\n",
    "    for j in range(k1*k2):\n",
    "        coeff=coeffRHOSYM790BSLCO[i][j]\n",
    "        \n",
    "        fitrhosym.append(p10(x, *coeff).tolist())\n",
    "        coeff=coeffRESYM790BSLCO[i][j]\n",
    "        \n",
    "        fitresym.append(pwithe(x, *coeff).tolist())\n",
    "        coeff=coeffRHOASYM790BSLCO[i][j]\n",
    "        fitrhoasym.append(p9(x, *coeff).tolist())\n",
    "        \n",
    "        coeff=coeffREASYM790BSLCO[i][j]\n",
    "        fitreasym.append(p9(x, *coeff).tolist())\n",
    "        \n",
    "    fitRHOSYM790BSLCO.append(fitrhosym)\n",
    "    fitRHOASYM790BSLCO.append(fitrhoasym)\n",
    "    fitRESYM790BSLCO.append(fitresym)\n",
    "    fitREASYM790BSLCO.append(fitreasym)\n",
    "    \n",
    "end_time = time.time()\n",
    "elapsed_time = end_time - start_time\n",
    "print(elapsed_time) # in seconds"
   ]
  },
  {
   "cell_type": "code",
   "execution_count": 18,
   "id": "be2b9eb6-af57-49fc-bac2-67e77fd49bab",
   "metadata": {},
   "outputs": [
    {
     "name": "stdout",
     "output_type": "stream",
     "text": [
      "58.765434980392456\n"
     ]
    }
   ],
   "source": [
    "start_time = time.time()\n",
    "\n",
    "fitRHOSYM820BSLCO=[]\n",
    "fitRHOASYM820BSLCO=[]\n",
    "fitRESYM820BSLCO=[]\n",
    "fitREASYM820BSLCO=[]\n",
    "\n",
    "for i in range(len(temparray)):\n",
    "    fitrhosym=[]\n",
    "    fitresym=[]\n",
    "    fitrhoasym=[]\n",
    "    fitreasym=[]\n",
    "    for j in range(k1*k2):\n",
    "        coeff=coeffRHOSYM820BSLCO[i][j]\n",
    "        \n",
    "        fitrhosym.append(p10(x, *coeff).tolist())\n",
    "        coeff=coeffRESYM820BSLCO[i][j]\n",
    "        \n",
    "        fitresym.append(pwithe(x, *coeff).tolist())\n",
    "        coeff=coeffRHOASYM820BSLCO[i][j]\n",
    "        fitrhoasym.append(p9(x, *coeff).tolist())\n",
    "        \n",
    "        coeff=coeffREASYM820BSLCO[i][j]\n",
    "        fitreasym.append(p9(x, *coeff).tolist())\n",
    "        \n",
    "    fitRHOSYM820BSLCO.append(fitrhosym)\n",
    "    fitRHOASYM820BSLCO.append(fitrhoasym)\n",
    "    fitRESYM820BSLCO.append(fitresym)\n",
    "    fitREASYM820BSLCO.append(fitreasym)\n",
    "    \n",
    "end_time = time.time()\n",
    "elapsed_time = end_time - start_time\n",
    "print(elapsed_time) # in seconds"
   ]
  },
  {
   "cell_type": "code",
   "execution_count": 19,
   "id": "1db7b7ce-f340-4e68-9673-073db3f33703",
   "metadata": {},
   "outputs": [
    {
     "name": "stdout",
     "output_type": "stream",
     "text": [
      "68.75733852386475\n"
     ]
    }
   ],
   "source": [
    "start_time = time.time()\n",
    "\n",
    "fitRHOSYM850BSLCO=[]\n",
    "fitRHOASYM850BSLCO=[]\n",
    "fitRESYM850BSLCO=[]\n",
    "fitREASYM850BSLCO=[]\n",
    "\n",
    "for i in range(len(temparray)):\n",
    "    fitrhosym=[]\n",
    "    fitresym=[]\n",
    "    fitrhoasym=[]\n",
    "    fitreasym=[]\n",
    "    for j in range(k1*k2):\n",
    "        coeff=coeffRHOSYM850BSLCO[i][j]\n",
    "        \n",
    "        fitrhosym.append(p10(x, *coeff).tolist())\n",
    "        coeff=coeffRESYM850BSLCO[i][j]\n",
    "        \n",
    "        fitresym.append(pwithe(x, *coeff).tolist())\n",
    "        coeff=coeffRHOASYM850BSLCO[i][j]\n",
    "        fitrhoasym.append(p9(x, *coeff).tolist())\n",
    "        \n",
    "        coeff=coeffREASYM850BSLCO[i][j]\n",
    "        fitreasym.append(p9(x, *coeff).tolist())\n",
    "        \n",
    "    fitRHOSYM850BSLCO.append(fitrhosym)\n",
    "    fitRHOASYM850BSLCO.append(fitrhoasym)\n",
    "    fitRESYM850BSLCO.append(fitresym)\n",
    "    fitREASYM850BSLCO.append(fitreasym)\n",
    "    \n",
    "end_time = time.time()\n",
    "elapsed_time = end_time - start_time\n",
    "print(elapsed_time) # in seconds"
   ]
  },
  {
   "cell_type": "code",
   "execution_count": 20,
   "id": "0cfcfd27-5e19-4e65-b6b9-345065c4db7e",
   "metadata": {},
   "outputs": [
    {
     "name": "stdout",
     "output_type": "stream",
     "text": [
      "58.35314154624939\n"
     ]
    }
   ],
   "source": [
    "start_time = time.time()\n",
    "\n",
    "fitRHOSYM880BSLCO=[]\n",
    "fitRHOASYM880BSLCO=[]\n",
    "fitRESYM880BSLCO=[]\n",
    "fitREASYM880BSLCO=[]\n",
    "\n",
    "for i in range(len(temparray)):\n",
    "    fitrhosym=[]\n",
    "    fitresym=[]\n",
    "    fitrhoasym=[]\n",
    "    fitreasym=[]\n",
    "    for j in range(k1*k2):\n",
    "        coeff=coeffRHOSYM880BSLCO[i][j]\n",
    "        \n",
    "        fitrhosym.append(p10(x, *coeff).tolist())\n",
    "        coeff=coeffRESYM880BSLCO[i][j]\n",
    "        \n",
    "        fitresym.append(pwithe(x, *coeff).tolist())\n",
    "        coeff=coeffRHOASYM880BSLCO[i][j]\n",
    "        fitrhoasym.append(p9(x, *coeff).tolist())\n",
    "        \n",
    "        coeff=coeffREASYM880BSLCO[i][j]\n",
    "        fitreasym.append(p9(x, *coeff).tolist())\n",
    "        \n",
    "    fitRHOSYM880BSLCO.append(fitrhosym)\n",
    "    fitRHOASYM880BSLCO.append(fitrhoasym)\n",
    "    fitRESYM880BSLCO.append(fitresym)\n",
    "    fitREASYM880BSLCO.append(fitreasym)\n",
    "    \n",
    "end_time = time.time()\n",
    "elapsed_time = end_time - start_time\n",
    "print(elapsed_time) # in seconds"
   ]
  },
  {
   "cell_type": "markdown",
   "id": "ff07cf2c-449d-471e-b428-95ee8bd8dc54",
   "metadata": {},
   "source": [
    "\n",
    "\n",
    "VARIOUS FUNCTIONS AND COMPONENTS FOR RECONSTRUCTING SPECTRAL FUNCTIONS, RESISTIVITY:"
   ]
  },
  {
   "cell_type": "code",
   "execution_count": 22,
   "id": "82e982db-790c-497d-9343-5a20cac11607",
   "metadata": {},
   "outputs": [],
   "source": [
    "def bandenergy(x, y, tp, tpp):\n",
    "    return (-2*np.cos(x)-2*np.cos(y)-4*tp*np.cos(x)*np.cos(y)-2*tpp*(np.cos(2*x)+np.cos(2*y)))\n",
    "\n",
    "bandenergyvec=np.vectorize(bandenergy)"
   ]
  },
  {
   "cell_type": "code",
   "execution_count": 23,
   "id": "d3a5ec13-27bf-4ad2-ba7c-70a9e0ed0867",
   "metadata": {},
   "outputs": [],
   "source": [
    "bande=bandenergyvec(k1new,k2new,tp,tpp)\n",
    "ve=omeganew-bande\n",
    "veflat=np.concatenate(ve)"
   ]
  },
  {
   "cell_type": "code",
   "execution_count": 24,
   "id": "0a838c35-59bc-4ec9-b34e-7835390823bc",
   "metadata": {},
   "outputs": [],
   "source": [
    "def depskx(kx,ky): \n",
    "    return 2*t*np.sin(kx) + 4*tp*np.sin(kx)*np.cos(ky) + 4*tpp*np.sin(2*kx)\n",
    "\n",
    "ux = 1.0\n",
    "uy = 0.0\n",
    "\n",
    "def dF(x, tau): #derivative_Fermi_function_over_beta(x, tau):\n",
    "    if x/tau <= -20.0:\n",
    "        return 0.0;\n",
    "    elif x/tau >= 20.0:\n",
    "        return 0.0\n",
    "    else:\n",
    "        return -1.0/ (2.0 * np.cosh(x / (2.0 * tau)))**2\n",
    "    \n",
    "dFvec=np.vectorize(dF)\n",
    "depsvec=np.vectorize(depskx)"
   ]
  },
  {
   "cell_type": "code",
   "execution_count": 25,
   "id": "2a435d05-a272-4549-b9c7-8d4519d618fa",
   "metadata": {},
   "outputs": [],
   "source": [
    "def flatten(matrix):\n",
    "    flat_list = []\n",
    "    for row in matrix:\n",
    "        flat_list += row\n",
    "    return flat_list"
   ]
  },
  {
   "cell_type": "code",
   "execution_count": 26,
   "id": "c0352209-d284-43e1-ac27-6391c34616ab",
   "metadata": {},
   "outputs": [],
   "source": [
    "flatRHOSYM760BSLCO=[]\n",
    "flatRESYM760BSLCO=[]\n",
    "flatRHOASYM760BSLCO=[]\n",
    "flatREASYM760BSLCO=[]\n",
    "for i in range(len(temparray)):\n",
    "    flatRHOSYM760BSLCO.append(flatten(fitRHOSYM760BSLCO[i]))\n",
    "    flatRHOASYM760BSLCO.append(flatten(fitRHOASYM760BSLCO[i]))\n",
    "    flatRESYM760BSLCO.append(flatten(fitRESYM760BSLCO[i]))\n",
    "    flatREASYM760BSLCO.append(flatten(fitREASYM760BSLCO[i]))\n",
    "\n",
    "flatRHOSYM790BSLCO=[]\n",
    "flatRESYM790BSLCO=[]\n",
    "flatRHOASYM790BSLCO=[]\n",
    "flatREASYM790BSLCO=[]\n",
    "for i in range(len(temparray)):\n",
    "    flatRHOSYM790BSLCO.append(flatten(fitRHOSYM790BSLCO[i]))\n",
    "    flatRHOASYM790BSLCO.append(flatten(fitRHOASYM790BSLCO[i]))\n",
    "    flatRESYM790BSLCO.append(flatten(fitRESYM790BSLCO[i]))\n",
    "    flatREASYM790BSLCO.append(flatten(fitREASYM790BSLCO[i]))\n",
    "\n",
    "flatRHOSYM820BSLCO=[]\n",
    "flatRESYM820BSLCO=[]\n",
    "flatRHOASYM820BSLCO=[]\n",
    "flatREASYM820BSLCO=[]\n",
    "for i in range(len(temparray)):\n",
    "    flatRHOSYM820BSLCO.append(flatten(fitRHOSYM820BSLCO[i]))\n",
    "    flatRHOASYM820BSLCO.append(flatten(fitRHOASYM820BSLCO[i]))\n",
    "    flatRESYM820BSLCO.append(flatten(fitRESYM820BSLCO[i]))\n",
    "    flatREASYM820BSLCO.append(flatten(fitREASYM820BSLCO[i]))\n",
    "\n",
    "flatRHOSYM850BSLCO=[]\n",
    "flatRESYM850BSLCO=[]\n",
    "flatRHOASYM850BSLCO=[]\n",
    "flatREASYM850BSLCO=[]\n",
    "for i in range(len(temparray)):\n",
    "    flatRHOSYM850BSLCO.append(flatten(fitRHOSYM850BSLCO[i]))\n",
    "    flatRHOASYM850BSLCO.append(flatten(fitRHOASYM850BSLCO[i]))\n",
    "    flatRESYM850BSLCO.append(flatten(fitRESYM850BSLCO[i]))\n",
    "    flatREASYM850BSLCO.append(flatten(fitREASYM850BSLCO[i]))\n",
    "\n",
    "flatRHOSYM880BSLCO=[]\n",
    "flatRESYM880BSLCO=[]\n",
    "flatRHOASYM880BSLCO=[]\n",
    "flatREASYM880BSLCO=[]\n",
    "for i in range(len(temparray)):\n",
    "    flatRHOSYM880BSLCO.append(flatten(fitRHOSYM880BSLCO[i]))\n",
    "    flatRHOASYM880BSLCO.append(flatten(fitRHOASYM880BSLCO[i]))\n",
    "    flatRESYM880BSLCO.append(flatten(fitRESYM880BSLCO[i]))\n",
    "    flatREASYM880BSLCO.append(flatten(fitREASYM880BSLCO[i]))"
   ]
  },
  {
   "cell_type": "markdown",
   "id": "cdf51e94-5cab-4e90-adba-16ae801ffc28",
   "metadata": {},
   "source": [
    "\n",
    "\n",
    "SPECTRAL FUNCTIONS ρG:"
   ]
  },
  {
   "cell_type": "code",
   "execution_count": 28,
   "id": "b3d182d6-81fd-4477-b1cf-ded62d2fe2be",
   "metadata": {},
   "outputs": [
    {
     "name": "stdout",
     "output_type": "stream",
     "text": [
      "7.91665244102478\n"
     ]
    }
   ],
   "source": [
    "start_time = time.time()\n",
    "\n",
    "RHOG760BSLCO=[]\n",
    "for i in range(len(temparray)):\n",
    "    refcn=np.add(np.add(flatREASYM760BSLCO[i],flatRESYM760BSLCO[i]),np.repeat(y0RE760BSLCO[i],len(ve[0])))\n",
    "    rhfcn=np.add(np.add(flatRHOASYM760BSLCO[i],flatRHOSYM760BSLCO[i]),np.repeat(y0RHO760BSLCO[i],len(ve[0])))\n",
    "    denom=np.add(np.add(np.add(np.power(refcn,2),np.power(np.pi*rhfcn,2)), -2*np.multiply(refcn,veflat+mu760BSLCO[i][0][0])),np.power(veflat+mu760BSLCO[i][0][0],2))\n",
    "    rhoG=np.divide(rhfcn, denom)\n",
    "    RHOG760BSLCO.append(rhoG)\n",
    "\n",
    "end_time = time.time()\n",
    "elapsed_time = end_time - start_time\n",
    "print(elapsed_time) # in seconds"
   ]
  },
  {
   "cell_type": "code",
   "execution_count": 29,
   "id": "78eb3e18-3296-4904-bf97-e2fd757dc7bd",
   "metadata": {},
   "outputs": [],
   "source": [
    "RHOG790BSLCO=[]\n",
    "for i in range(len(temparray)):\n",
    "    refcn=np.add(np.add(flatREASYM790BSLCO[i],flatRESYM790BSLCO[i]),np.repeat(y0RE790BSLCO[i],len(ve[0])))\n",
    "    rhfcn=np.add(np.add(flatRHOASYM790BSLCO[i],flatRHOSYM790BSLCO[i]),np.repeat(y0RHO790BSLCO[i],len(ve[0])))\n",
    "    denom=np.add(np.add(np.add(np.power(refcn,2),np.power(np.pi*rhfcn,2)), -2*np.multiply(refcn,veflat+mu790BSLCO[i][0][0])),np.power(veflat+mu790BSLCO[i][0][0],2))\n",
    "    rhoG=np.divide(rhfcn, denom)\n",
    "    RHOG790BSLCO.append(rhoG)"
   ]
  },
  {
   "cell_type": "code",
   "execution_count": 30,
   "id": "cecdecad-8a88-4228-ad57-af2465a705e0",
   "metadata": {},
   "outputs": [],
   "source": [
    "RHOG820BSLCO=[]\n",
    "for i in range(len(temparray)):\n",
    "    refcn=np.add(np.add(flatREASYM820BSLCO[i],flatRESYM820BSLCO[i]),np.repeat(y0RE820BSLCO[i],len(ve[0])))\n",
    "    rhfcn=np.add(np.add(flatRHOASYM820BSLCO[i],flatRHOSYM820BSLCO[i]),np.repeat(y0RHO820BSLCO[i],len(ve[0])))\n",
    "    denom=np.add(np.add(np.add(np.power(refcn,2),np.power(np.pi*rhfcn,2)), -2*np.multiply(refcn,veflat+mu820BSLCO[i][0][0])),np.power(veflat+mu820BSLCO[i][0][0],2))\n",
    "    rhoG=np.divide(rhfcn, denom)\n",
    "    RHOG820BSLCO.append(rhoG)"
   ]
  },
  {
   "cell_type": "code",
   "execution_count": 31,
   "id": "effa76e6-b9ca-49c3-a980-fe850c130c83",
   "metadata": {},
   "outputs": [],
   "source": [
    "RHOG850BSLCO=[]\n",
    "for i in range(len(temparray)):\n",
    "    refcn=np.add(np.add(flatREASYM850BSLCO[i],flatRESYM850BSLCO[i]),np.repeat(y0RE850BSLCO[i],len(ve[0])))\n",
    "    rhfcn=np.add(np.add(flatRHOASYM850BSLCO[i],flatRHOSYM850BSLCO[i]),np.repeat(y0RHO850BSLCO[i],len(ve[0])))\n",
    "    denom=np.add(np.add(np.add(np.power(refcn,2),np.power(np.pi*rhfcn,2)), -2*np.multiply(refcn,veflat+mu850BSLCO[i][0][0])),np.power(veflat+mu850BSLCO[i][0][0],2))\n",
    "    rhoG=np.divide(rhfcn, denom)\n",
    "    RHOG850BSLCO.append(rhoG)"
   ]
  },
  {
   "cell_type": "code",
   "execution_count": 32,
   "id": "bece91cc-4fb8-44d6-b43c-e206c439c03d",
   "metadata": {},
   "outputs": [],
   "source": [
    "RHOG880BSLCO=[]\n",
    "for i in range(len(temparray)):\n",
    "    refcn=np.add(np.add(flatREASYM880BSLCO[i],flatRESYM880BSLCO[i]),np.repeat(y0RE880BSLCO[i],len(ve[0])))\n",
    "    rhfcn=np.add(np.add(flatRHOASYM880BSLCO[i],flatRHOSYM880BSLCO[i]),np.repeat(y0RHO880BSLCO[i],len(ve[0])))\n",
    "    denom=np.add(np.add(np.add(np.power(refcn,2),np.power(np.pi*rhfcn,2)), -2*np.multiply(refcn,veflat+mu880BSLCO[i][0][0])),np.power(veflat+mu880BSLCO[i][0][0],2))\n",
    "    rhoG=np.divide(rhfcn, denom)\n",
    "    RHOG880BSLCO.append(rhoG)"
   ]
  },
  {
   "cell_type": "code",
   "execution_count": 33,
   "id": "fde07bc2-270b-4a9d-b926-8cd37b2bb9e9",
   "metadata": {},
   "outputs": [],
   "source": [
    "omegaflat=flatten(omeganew)\n",
    "k1flat=flatten(k1new)\n",
    "k2flat=flatten(k2new)"
   ]
  },
  {
   "cell_type": "markdown",
   "id": "4ea4a87c-e77b-473b-b367-e519ad48bc7a",
   "metadata": {},
   "source": [
    "\n",
    "\n",
    "RESISTIVITY FROM SPECTRAL FUNCTIONS:"
   ]
  },
  {
   "cell_type": "code",
   "execution_count": 35,
   "id": "6cc28257-8ec6-4085-a415-f0b8d7b76292",
   "metadata": {},
   "outputs": [
    {
     "name": "stdout",
     "output_type": "stream",
     "text": [
      "131.96922636032104\n"
     ]
    }
   ],
   "source": [
    "start_time = time.time()\n",
    "\n",
    "sigxx760BSLCO=[]\n",
    "for i in range(len(temparray)):\n",
    "    tau=temparray[i]\n",
    "    sigarr=np.multiply(np.multiply(-dFvec(omegaflat,tau),np.power(RHOG760BSLCO[i],2)),np.power(depsvec(k1flat,k2flat),2))\n",
    "    sigxxpart=sigarr.sum()\n",
    "    DELTAomega=finalv[2]-finalv[1] # original spacing gets rid of the 0.04 and scales omega back\n",
    "    sigxxfit=sigxxpart*((2*np.pi)**2) * DELTAomega / (tau * k1 * k2)\n",
    "    sigxx760BSLCO.append(sigxxfit)\n",
    "rhoxx760BSLCO=np.divide(1,sigxx760BSLCO)\n",
    "\n",
    "end_time = time.time()\n",
    "elapsed_time = end_time - start_time\n",
    "print(elapsed_time) # in seconds"
   ]
  },
  {
   "cell_type": "code",
   "execution_count": 36,
   "id": "10a574f3-adad-48b7-a363-76a40e3f5f74",
   "metadata": {},
   "outputs": [],
   "source": [
    "sigxx790BSLCO=[]\n",
    "for i in range(len(temparray)):\n",
    "    tau=temparray[i]\n",
    "    sigarr=np.multiply(np.multiply(-dFvec(omegaflat,tau),np.power(RHOG790BSLCO[i],2)),np.power(depsvec(k1flat,k2flat),2))\n",
    "    sigxxpart=sigarr.sum()\n",
    "    DELTAomega=finalv[2]-finalv[1]  \n",
    "    sigxxfit=sigxxpart*((2*np.pi)**2) * DELTAomega / (tau * k1 * k2)\n",
    "    sigxx790BSLCO.append(sigxxfit)\n",
    "rhoxx790BSLCO=np.divide(1,sigxx790BSLCO)"
   ]
  },
  {
   "cell_type": "code",
   "execution_count": 37,
   "id": "e3ae1a07-1ac8-4970-84c4-c970cddf8c74",
   "metadata": {},
   "outputs": [],
   "source": [
    "sigxx820BSLCO=[]\n",
    "for i in range(len(temparray)):\n",
    "    tau=temparray[i]\n",
    "    sigarr=np.multiply(np.multiply(-dFvec(omegaflat,tau),np.power(RHOG820BSLCO[i],2)),np.power(depsvec(k1flat,k2flat),2))\n",
    "    sigxxpart=sigarr.sum()\n",
    "    DELTAomega=finalv[2]-finalv[1]  \n",
    "    sigxxfit=sigxxpart*((2*np.pi)**2) * DELTAomega / (tau * k1 * k2)\n",
    "    sigxx820BSLCO.append(sigxxfit)\n",
    "rhoxx820BSLCO=np.divide(1,sigxx820BSLCO)"
   ]
  },
  {
   "cell_type": "code",
   "execution_count": 38,
   "id": "3afc4d01-ea7e-4937-a417-94eec6c0e3c6",
   "metadata": {},
   "outputs": [],
   "source": [
    "sigxx850BSLCO=[]\n",
    "for i in range(len(temparray)):\n",
    "    tau=temparray[i]\n",
    "    sigarr=np.multiply(np.multiply(-dFvec(omegaflat,tau),np.power(RHOG850BSLCO[i],2)),np.power(depsvec(k1flat,k2flat),2))\n",
    "    sigxxpart=sigarr.sum()\n",
    "    DELTAomega=finalv[2]-finalv[1]  \n",
    "    sigxxfit=sigxxpart*((2*np.pi)**2) * DELTAomega / (tau * k1 * k2)\n",
    "    sigxx850BSLCO.append(sigxxfit)\n",
    "rhoxx850BSLCO=np.divide(1,sigxx850BSLCO)"
   ]
  },
  {
   "cell_type": "code",
   "execution_count": 39,
   "id": "45fcf82d-4e3d-43d3-ba18-1afdae2dee38",
   "metadata": {},
   "outputs": [],
   "source": [
    "sigxx880BSLCO=[]\n",
    "for i in range(len(temparray)):\n",
    "    tau=temparray[i]\n",
    "    sigarr=np.multiply(np.multiply(-dFvec(omegaflat,tau),np.power(RHOG880BSLCO[i],2)),np.power(depsvec(k1flat,k2flat),2))\n",
    "    sigxxpart=sigarr.sum()\n",
    "    DELTAomega=finalv[2]-finalv[1]  \n",
    "    sigxxfit=sigxxpart*((2*np.pi)**2) * DELTAomega / (tau * k1 * k2)\n",
    "    sigxx880BSLCO.append(sigxxfit)\n",
    "rhoxx880BSLCO=np.divide(1,sigxx880BSLCO)"
   ]
  },
  {
   "cell_type": "markdown",
   "id": "5e8106e3-9a0d-45b2-8be0-cfcd07a9c1a0",
   "metadata": {},
   "source": [
    "\n",
    "\n",
    "EXAMPLE PLOTS:"
   ]
  },
  {
   "cell_type": "code",
   "execution_count": 41,
   "id": "e3687e78-240e-4282-9a66-a96f3e7b4ff7",
   "metadata": {},
   "outputs": [
    {
     "data": {
      "image/png": "[encoded data removed]",
      "text/plain": [
       "<Figure size 640x480 with 1 Axes>"
      ]
     },
     "metadata": {},
     "output_type": "display_data"
    }
   ],
   "source": [
    "# spectral function data for the first (kx, ky) value (0, 0) in the n=0.710 data\n",
    "# data is displayed with an interpolation\n",
    "\n",
    "# first index in RHOG790BSLCO is temperature, inside that is a list of 92x92 sequential 43 point spectral functions\n",
    "# The first of these, at kx=0 and ky=0, is shown below\n",
    "# To find the kx and ky value for a point in RHOG790BSLCO you can check the same index in k1flat, k2flat\n",
    "\n",
    "spl=interpolate.InterpolatedUnivariateSpline(omeganew[0],RHOG790BSLCO[0][0:43])\n",
    "omega=np.linspace(omeganew[0][0],omeganew[0][-1],500)\n",
    "plt.plot(omega,spl(omega))\n",
    "plt.plot(omeganew[0],RHOG790BSLCO[0][0:43],'o')\n",
    "plt.title(\"ρG (kx=ky=0)\")\n",
    "plt.xlabel(\"ω\")\n",
    "plt.show()"
   ]
  },
  {
   "cell_type": "code",
   "execution_count": 42,
   "id": "b4431c05-4989-4555-b713-bd0d08bce48a",
   "metadata": {
    "scrolled": true
   },
   "outputs": [
    {
     "data": {
      "image/png": "[encoded data removed]",
      "text/plain": [
       "<Figure size 640x480 with 1 Axes>"
      ]
     },
     "metadata": {},
     "output_type": "display_data"
    }
   ],
   "source": [
    "# one of the resistivity plots\n",
    "# this is in dimensionless units, units we used can be found in the paper\n",
    "\n",
    "plt.plot(temparray,rhoxx790BSLCO,'o')\n",
    "plt.title(\"Polynomial Reproduction of Resistivity, n=0.790\")\n",
    "plt.ylabel(\"ρ\")\n",
    "plt.xlabel(\"T\")\n",
    "plt.show()"
   ]
  },
  {
   "cell_type": "markdown",
   "id": "9dae994b-1783-40b2-b3c5-f4ca345b676e",
   "metadata": {},
   "source": [
    "INTERPOLATION"
   ]
  },
  {
   "cell_type": "code",
   "execution_count": 44,
   "id": "21c048d4-7de5-46fc-90fa-43888395add1",
   "metadata": {},
   "outputs": [],
   "source": [
    "# an easy way to estimate resistivities at new densities from our results:\n",
    "\n",
    "rhoarr=[rhoxx760BSLCO,rhoxx790BSLCO,rhoxx820BSLCO,rhoxx850BSLCO,rhoxx880BSLCO]\n",
    "rhoarr=[rho.tolist() for rho in rhoarr]\n",
    "densities=[0.760,0.790,0.820,0.850,0.880];\n",
    "\n",
    "tvals=np.tile(temparray,len(densities)).tolist()\n",
    "nvals=np.repeat(densities,len(temparray)).tolist()\n",
    "rhovals=flatten(rhoarr)\n",
    "\n",
    "X = np.linspace(min(tvals), max(tvals))\n",
    "Y = np.linspace(min(nvals), max(nvals))\n",
    "X, Y = np.meshgrid(X,Y)\n",
    "interp = interpolate.LinearNDInterpolator(list(zip(tvals, nvals)), rhovals)\n",
    "Z = interp(X, Y)"
   ]
  },
  {
   "cell_type": "code",
   "execution_count": 45,
   "id": "0d6bb6a2-85d7-4e75-945f-5e416316e29d",
   "metadata": {},
   "outputs": [
    {
     "data": {
      "image/png": "[encoded data removed]",
      "text/plain": [
       "<Figure size 640x480 with 1 Axes>"
      ]
     },
     "metadata": {},
     "output_type": "display_data"
    }
   ],
   "source": [
    "# demonstrating interpolation:\n",
    "\n",
    "density=0.81\n",
    "\n",
    "plt.plot(temparray,interp(temparray,density),'k-')\n",
    "plt.title(\"Resistivity Interpolation at n = %1.3f\" % density)\n",
    "plt.ylabel(\"ρ\")\n",
    "plt.xlabel(\"T\")\n",
    "plt.show()"
   ]
  },
  {
   "cell_type": "code",
   "execution_count": null,
   "id": "7d6dbd60-af8b-485c-b407-793a4ab9ad9a",
   "metadata": {},
   "outputs": [],
   "source": []
  }
 ],
 "metadata": {
  "kernelspec": {
   "display_name": "Python [conda env:base] *",
   "language": "python",
   "name": "conda-base-py"
  },
  "language_info": {
   "codemirror_mode": {
    "name": "ipython",
    "version": 3
   },
   "file_extension": ".py",
   "mimetype": "text/x-python",
   "name": "python",
   "nbconvert_exporter": "python",
   "pygments_lexer": "ipython3",
   "version": "3.9.20"
  }
 },
 "nbformat": 4,
 "nbformat_minor": 5
}
