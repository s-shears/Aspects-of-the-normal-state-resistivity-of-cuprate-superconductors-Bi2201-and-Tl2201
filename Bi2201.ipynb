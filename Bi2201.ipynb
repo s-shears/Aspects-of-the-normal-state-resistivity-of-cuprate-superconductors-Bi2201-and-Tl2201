{
 "cells": [
  {
   "cell_type": "markdown",
   "id": "da6b3331-2378-48d2-8e81-c54a75059d01",
   "metadata": {},
   "source": [
    "INITIALIZE:"
   ]
  },
  {
   "cell_type": "code",
   "execution_count": 2,
   "id": "05106baa-da3e-4aa7-bbc6-690ec7e318e0",
   "metadata": {},
   "outputs": [],
   "source": [
    "import numpy as np\n",
    "import matplotlib.pyplot as plt\n",
    "import scipy\n",
    "import scipy.interpolate as interpolate\n",
    "import time"
   ]
  },
  {
   "cell_type": "markdown",
   "id": "4762ffd1-6886-4bf2-b761-6acf2ae91e5f",
   "metadata": {},
   "source": [
    "PARAMETERS/INITIAL ARRAYS:"
   ]
  },
  {
   "cell_type": "code",
   "execution_count": 4,
   "id": "a28dd52f-43d6-45f0-a3e9-2d5a4a9e056b",
   "metadata": {},
   "outputs": [],
   "source": [
    "t=1\n",
    "tp=-0.400\n",
    "tpp=0.000\n",
    "\n",
    "k1=92\n",
    "k2=92\n",
    "Nexp=12\n",
    "D=50"
   ]
  },
  {
   "cell_type": "code",
   "execution_count": 5,
   "id": "9bfc148a-b5da-437b-82a0-864bdb12baed",
   "metadata": {},
   "outputs": [],
   "source": [
    "temparray=[0.0067050, 0.0076628, 0.0086207, 0.0095785, 0.0105364 , 0.0114943, 0.0124521, 0.0134100, 0.0143678, 0.0153257, 0.0162835, 0.0172414, 0.0181992, 0.0191571, 0.0201149, 0.0210728, 0.0220307, 0.0229885, 0.0239464, 0.0249042, 0.0258621, 0.0268199, 0.0277778, 0.0287356, 0.0296935, 0.0306513, 0.0316092, 0.0325670, 0.0335349, 0.0344828, 0.0354406, 0.0363985, 0.0373563, 0.0383142, 0.0402299, 0.0421456, 0.0440613, 0.0459770, 0.0478927, 0.0498084, 0.0517241, 0.0536398, 0.0555556, 0.0574713, 0.0593870, 0.0613027, 0.0632184, 0.0651341, 0.0670498, 0.0689655, 0.0708812, 0.0727969, 0.0747126, 0.0766284]\n",
    "tempnames=[('%.4f' %temp) for temp in temparray];"
   ]
  },
  {
   "cell_type": "code",
   "execution_count": 6,
   "id": "ca627b59-1205-4888-9dba-f5cdd9fd899c",
   "metadata": {},
   "outputs": [],
   "source": [
    "sizev=2**Nexp \n",
    "sizee=k1*k2\n",
    "sizek=k1\n",
    "\n",
    "krange=np.linspace(0,2*np.pi-(2*np.pi/sizek),sizek)\n",
    "vrange=np.linspace(-D,D-((2*D)/sizev),sizev) \n",
    "\n",
    "finalk1=np.zeros(k1*k2*(2**Nexp)).tolist()\n",
    "finalk2=np.zeros(k1*k2*(2**Nexp)).tolist()\n",
    "finalv=np.zeros(k1*k2*(2**Nexp)).tolist()\n",
    "for i in range(sizek):            \n",
    "    for j in range(sizek):\n",
    "        for k in range(sizev):  \n",
    "            m=k+sizev*(j+sizek*i)      \n",
    "            finalk1[m]=krange[i]\n",
    "            finalk2[m]=krange[j]\n",
    "            finalv[m]=vrange[k]"
   ]
  },
  {
   "cell_type": "markdown",
   "id": "eb62ca5c-6bf3-47d7-888c-cfc49c75b084",
   "metadata": {},
   "source": [
    "\n",
    "\n",
    "IMPORTS:"
   ]
  },
  {
   "cell_type": "code",
   "execution_count": 8,
   "id": "24c46387-904e-4547-b58f-fc5643eb2529",
   "metadata": {},
   "outputs": [],
   "source": [
    "lists = []\n",
    "with open('680Bidata.txt', 'r') as f:\n",
    "    contents = f.read().split('\\n---\\n') \n",
    "    for list_section in contents:\n",
    "        if list_section.strip():\n",
    "            array_list = []\n",
    "            lines = list_section.splitlines()\n",
    "            for line in lines:\n",
    "                if not line.strip() or line.startswith(\"List\") or line.startswith(\"Array\"):\n",
    "                    continue\n",
    "                array_list.append(np.fromstring(line, sep=' ', dtype=float))\n",
    "            lists.append(array_list)\n",
    "\n",
    "coeffRHOSYM680Bi = [[arr[0:5] for arr in sublist] for sublist in lists]\n",
    "coeffRHOASYM680Bi = [[arr[5:10] for arr in sublist] for sublist in lists]\n",
    "coeffRESYM680Bi = [[arr[10:16] for arr in sublist] for sublist in lists]\n",
    "coeffREASYM680Bi = [[arr[16:21] for arr in sublist] for sublist in lists]\n",
    "y0RHO680Bi = [[arr[21:22] for arr in sublist] for sublist in lists]\n",
    "y0RE680Bi = [[arr[22:23] for arr in sublist] for sublist in lists]\n",
    "mu680Bi = [[arr[23:24] for arr in sublist] for sublist in lists]\n",
    "\n",
    "del lists"
   ]
  },
  {
   "cell_type": "code",
   "execution_count": 9,
   "id": "ce5e6d77-1469-46fe-aa11-19b8d37a75dd",
   "metadata": {},
   "outputs": [],
   "source": [
    "lists = []\n",
    "with open('710Bidata.txt', 'r') as f:\n",
    "    contents = f.read().split('\\n---\\n')  \n",
    "    for list_section in contents:\n",
    "        if list_section.strip():  \n",
    "            array_list = []\n",
    "            lines = list_section.splitlines()\n",
    "            for line in lines:\n",
    "                if not line.strip() or line.startswith(\"List\") or line.startswith(\"Array\"):\n",
    "                    continue\n",
    "                array_list.append(np.fromstring(line, sep=' ', dtype=float))\n",
    "            lists.append(array_list)\n",
    "\n",
    "coeffRHOSYM710Bi = [[arr[0:5] for arr in sublist] for sublist in lists]\n",
    "coeffRHOASYM710Bi = [[arr[5:10] for arr in sublist] for sublist in lists]\n",
    "coeffRESYM710Bi = [[arr[10:16] for arr in sublist] for sublist in lists]\n",
    "coeffREASYM710Bi = [[arr[16:21] for arr in sublist] for sublist in lists]\n",
    "y0RHO710Bi = [[arr[21:22] for arr in sublist] for sublist in lists]\n",
    "y0RE710Bi = [[arr[22:23] for arr in sublist] for sublist in lists]\n",
    "mu710Bi = [[arr[23:24] for arr in sublist] for sublist in lists]\n",
    "\n",
    "del lists"
   ]
  },
  {
   "cell_type": "code",
   "execution_count": 10,
   "id": "90661a28-c957-4890-8227-bf6ef72b8541",
   "metadata": {},
   "outputs": [],
   "source": [
    "lists = []\n",
    "with open('740Bidata.txt', 'r') as f:\n",
    "    contents = f.read().split('\\n---\\n')  \n",
    "    for list_section in contents:\n",
    "        if list_section.strip():  \n",
    "            array_list = []\n",
    "            lines = list_section.splitlines()\n",
    "            for line in lines:\n",
    "                if not line.strip() or line.startswith(\"List\") or line.startswith(\"Array\"):\n",
    "                    continue\n",
    "                array_list.append(np.fromstring(line, sep=' ', dtype=float))\n",
    "            lists.append(array_list)\n",
    "\n",
    "coeffRHOSYM740Bi = [[arr[0:5] for arr in sublist] for sublist in lists]\n",
    "coeffRHOASYM740Bi = [[arr[5:10] for arr in sublist] for sublist in lists]\n",
    "coeffRESYM740Bi = [[arr[10:16] for arr in sublist] for sublist in lists]\n",
    "coeffREASYM740Bi = [[arr[16:21] for arr in sublist] for sublist in lists]\n",
    "y0RHO740Bi = [[arr[21:22] for arr in sublist] for sublist in lists]\n",
    "y0RE740Bi = [[arr[22:23] for arr in sublist] for sublist in lists]\n",
    "mu740Bi = [[arr[23:24] for arr in sublist] for sublist in lists]\n",
    "\n",
    "del lists"
   ]
  },
  {
   "cell_type": "code",
   "execution_count": 11,
   "id": "29879657-d9a0-4229-9d47-56eb6b4ee299",
   "metadata": {},
   "outputs": [],
   "source": [
    "lists = []\n",
    "with open('770Bidata.txt', 'r') as f:\n",
    "    contents = f.read().split('\\n---\\n')  \n",
    "    for list_section in contents:\n",
    "        if list_section.strip():  \n",
    "            array_list = []\n",
    "            lines = list_section.splitlines()\n",
    "            for line in lines:\n",
    "                if not line.strip() or line.startswith(\"List\") or line.startswith(\"Array\"):\n",
    "                    continue\n",
    "                array_list.append(np.fromstring(line, sep=' ', dtype=float))\n",
    "            lists.append(array_list)\n",
    "\n",
    "coeffRHOSYM770Bi = [[arr[0:5] for arr in sublist] for sublist in lists]\n",
    "coeffRHOASYM770Bi = [[arr[5:10] for arr in sublist] for sublist in lists]\n",
    "coeffRESYM770Bi = [[arr[10:16] for arr in sublist] for sublist in lists]\n",
    "coeffREASYM770Bi = [[arr[16:21] for arr in sublist] for sublist in lists]\n",
    "y0RHO770Bi = [[arr[21:22] for arr in sublist] for sublist in lists]\n",
    "y0RE770Bi = [[arr[22:23] for arr in sublist] for sublist in lists]\n",
    "mu770Bi = [[arr[23:24] for arr in sublist] for sublist in lists]\n",
    "\n",
    "del lists"
   ]
  },
  {
   "cell_type": "code",
   "execution_count": 12,
   "id": "5bb95fe9-6cc5-457c-8c5f-c8e2300617a7",
   "metadata": {},
   "outputs": [],
   "source": [
    "lists = []\n",
    "with open('800Bidata.txt', 'r') as f:\n",
    "    contents = f.read().split('\\n---\\n')  \n",
    "    for list_section in contents:\n",
    "        if list_section.strip():  \n",
    "            array_list = []\n",
    "            lines = list_section.splitlines()\n",
    "            for line in lines:\n",
    "                if not line.strip() or line.startswith(\"List\") or line.startswith(\"Array\"):\n",
    "                    continue\n",
    "                array_list.append(np.fromstring(line, sep=' ', dtype=float))\n",
    "            lists.append(array_list)\n",
    "\n",
    "coeffRHOSYM800Bi = [[arr[0:5] for arr in sublist] for sublist in lists]\n",
    "coeffRHOASYM800Bi = [[arr[5:10] for arr in sublist] for sublist in lists]\n",
    "coeffRESYM800Bi = [[arr[10:16] for arr in sublist] for sublist in lists]\n",
    "coeffREASYM800Bi = [[arr[16:21] for arr in sublist] for sublist in lists]\n",
    "y0RHO800Bi = [[arr[21:22] for arr in sublist] for sublist in lists]\n",
    "y0RE800Bi = [[arr[22:23] for arr in sublist] for sublist in lists]\n",
    "mu800Bi = [[arr[23:24] for arr in sublist] for sublist in lists]\n",
    "\n",
    "del lists"
   ]
  },
  {
   "cell_type": "code",
   "execution_count": 90,
   "id": "bb259c1f-47e4-47dc-89b9-5809e5a63505",
   "metadata": {},
   "outputs": [],
   "source": [
    "lists = []\n",
    "with open('830Bidata.txt', 'r') as f:\n",
    "    contents = f.read().split('\\n---\\n')  \n",
    "    for list_section in contents:\n",
    "        if list_section.strip():  \n",
    "            array_list = []\n",
    "            lines = list_section.splitlines()\n",
    "            for line in lines:\n",
    "                if not line.strip() or line.startswith(\"List\") or line.startswith(\"Array\"):\n",
    "                    continue\n",
    "                array_list.append(np.fromstring(line, sep=' ', dtype=float))\n",
    "            lists.append(array_list)\n",
    "\n",
    "coeffRHOSYM830Bi = [[arr[0:5] for arr in sublist] for sublist in lists]\n",
    "coeffRHOASYM830Bi = [[arr[5:10] for arr in sublist] for sublist in lists]\n",
    "coeffRESYM830Bi = [[arr[10:16] for arr in sublist] for sublist in lists]\n",
    "coeffREASYM830Bi = [[arr[16:21] for arr in sublist] for sublist in lists]\n",
    "y0RHO830Bi = [[arr[21:22] for arr in sublist] for sublist in lists]\n",
    "y0RE830Bi = [[arr[22:23] for arr in sublist] for sublist in lists]\n",
    "mu830Bi = [[arr[23:24] for arr in sublist] for sublist in lists]\n",
    "\n",
    "del lists"
   ]
  },
  {
   "cell_type": "code",
   "execution_count": 50,
   "id": "9466b6a8-41c8-456c-b83c-04ac48e3f5d9",
   "metadata": {},
   "outputs": [],
   "source": [
    "lists = []\n",
    "with open('860Bidata.txt', 'r') as f:\n",
    "    contents = f.read().split('\\n---\\n')  \n",
    "    for list_section in contents:\n",
    "        if list_section.strip():  \n",
    "            array_list = []\n",
    "            lines = list_section.splitlines()\n",
    "            for line in lines:\n",
    "                if not line.strip() or line.startswith(\"List\") or line.startswith(\"Array\"):\n",
    "                    continue\n",
    "                array_list.append(np.fromstring(line, sep=' ', dtype=float))\n",
    "            lists.append(array_list)\n",
    "\n",
    "coeffRHOSYM860Bi = [[arr[0:5] for arr in sublist] for sublist in lists]\n",
    "coeffRHOASYM860Bi = [[arr[5:10] for arr in sublist] for sublist in lists]\n",
    "coeffRESYM860Bi = [[arr[10:16] for arr in sublist] for sublist in lists]\n",
    "coeffREASYM860Bi = [[arr[16:21] for arr in sublist] for sublist in lists]\n",
    "y0RHO860Bi = [[arr[21:22] for arr in sublist] for sublist in lists]\n",
    "y0RE860Bi = [[arr[22:23] for arr in sublist] for sublist in lists]\n",
    "mu860Bi = [[arr[23:24] for arr in sublist] for sublist in lists]\n",
    "\n",
    "del lists"
   ]
  },
  {
   "cell_type": "markdown",
   "id": "53e62813-e871-400b-9e87-2e26aca4ef10",
   "metadata": {},
   "source": [
    "\n",
    "\n",
    "MAKE POLYNOMIALS FROM IMPORT DATA:"
   ]
  },
  {
   "cell_type": "code",
   "execution_count": 16,
   "id": "68fabd41-1b8d-4589-b216-e40a1f438e4b",
   "metadata": {},
   "outputs": [],
   "source": [
    "# Polynomials were fit over a small range in the center of the frequency domain (where most of the spectral weight is concentrated)\n",
    "\n",
    "omeganew=[finalv[int((2**12)*i+int((2**12-1)/2)-20):int((2**12)*i+int((2**12-1)/2)+23)] for i in range(k1*k2)]\n",
    "k1new=[finalk1[int((2**12)*i+int((2**12-1)/2)-20):int((2**12)*i+int((2**12-1)/2)+23)] for i in range(k1*k2)]\n",
    "k2new=[finalk2[int((2**12)*i+int((2**12-1)/2)-20):int((2**12)*i+int((2**12-1)/2)+23)] for i in range(k1*k2)]\n",
    "\n",
    "# scaled for numerical stability, scaled back later\n",
    "omegac=0.04\n",
    "x=np.array(omeganew[0])/omegac"
   ]
  },
  {
   "cell_type": "code",
   "execution_count": 17,
   "id": "6ea54a0e-941a-47e1-baa9-848a5a466f3b",
   "metadata": {},
   "outputs": [],
   "source": [
    "def p9(x, b, d, f, h, j): \n",
    "    return b*x + d*x**3 + f*x**5 + h*x**7 + j*x**9\n",
    "\n",
    "def p10(x, c, e, g, i, n): \n",
    "    return (c*x**2 + e*x**4 + g*x**6 + i*x**8 + n*x**10)\n",
    "\n",
    "def pwithe(x, a, c, e, g, n,m ): \n",
    "    return np.exp(-a*x**2)*(c*x**2 + e*x**4 + g*x**6 + n*x**8 + m*x**10)"
   ]
  },
  {
   "cell_type": "code",
   "execution_count": 18,
   "id": "438957ee-6266-4bb7-99ca-380f61f7eaab",
   "metadata": {},
   "outputs": [
    {
     "name": "stdout",
     "output_type": "stream",
     "text": [
      "63.157384157180786\n"
     ]
    }
   ],
   "source": [
    "start_time = time.time()\n",
    "# should take a minute or two each\n",
    "\n",
    "fitRHOSYM680Bi=[]\n",
    "fitRHOASYM680Bi=[]\n",
    "fitRESYM680Bi=[]\n",
    "fitREASYM680Bi=[]\n",
    "\n",
    "for i in range(len(temparray)):\n",
    "    fitrhosym=[]\n",
    "    fitresym=[]\n",
    "    fitrhoasym=[]\n",
    "    fitreasym=[]\n",
    "    for j in range(k1*k2):\n",
    "        coeff=coeffRHOSYM680Bi[i][j]\n",
    "        \n",
    "        fitrhosym.append(p10(x, *coeff).tolist())\n",
    "        coeff=coeffRESYM680Bi[i][j]\n",
    "        \n",
    "        fitresym.append(pwithe(x, *coeff).tolist())\n",
    "        coeff=coeffRHOASYM680Bi[i][j]\n",
    "        fitrhoasym.append(p9(x, *coeff).tolist())\n",
    "        \n",
    "        coeff=coeffREASYM680Bi[i][j]\n",
    "        fitreasym.append(p9(x, *coeff).tolist())\n",
    "        \n",
    "    fitRHOSYM680Bi.append(fitrhosym)\n",
    "    fitRHOASYM680Bi.append(fitrhoasym)\n",
    "    fitRESYM680Bi.append(fitresym)\n",
    "    fitREASYM680Bi.append(fitreasym)\n",
    "    \n",
    "end_time = time.time()\n",
    "elapsed_time = end_time - start_time\n",
    "print(elapsed_time) # in seconds"
   ]
  },
  {
   "cell_type": "code",
   "execution_count": 19,
   "id": "6d126f0b-f09c-4ccc-a9c6-719bab9273eb",
   "metadata": {},
   "outputs": [
    {
     "name": "stdout",
     "output_type": "stream",
     "text": [
      "60.0791220664978\n"
     ]
    }
   ],
   "source": [
    "start_time = time.time()\n",
    "\n",
    "fitRHOSYM710Bi=[]\n",
    "fitRHOASYM710Bi=[]\n",
    "fitRESYM710Bi=[]\n",
    "fitREASYM710Bi=[]\n",
    "\n",
    "for i in range(len(temparray)):\n",
    "    fitrhosym=[]\n",
    "    fitresym=[]\n",
    "    fitrhoasym=[]\n",
    "    fitreasym=[]\n",
    "    for j in range(k1*k2):\n",
    "        coeff=coeffRHOSYM710Bi[i][j]\n",
    "        \n",
    "        fitrhosym.append(p10(x, *coeff).tolist())\n",
    "        coeff=coeffRESYM710Bi[i][j]\n",
    "        \n",
    "        fitresym.append(pwithe(x, *coeff).tolist())\n",
    "        coeff=coeffRHOASYM710Bi[i][j]\n",
    "        fitrhoasym.append(p9(x, *coeff).tolist())\n",
    "        \n",
    "        coeff=coeffREASYM710Bi[i][j]\n",
    "        fitreasym.append(p9(x, *coeff).tolist())\n",
    "        \n",
    "    fitRHOSYM710Bi.append(fitrhosym)\n",
    "    fitRHOASYM710Bi.append(fitrhoasym)\n",
    "    fitRESYM710Bi.append(fitresym)\n",
    "    fitREASYM710Bi.append(fitreasym)\n",
    "    \n",
    "end_time = time.time()\n",
    "elapsed_time = end_time - start_time\n",
    "print(elapsed_time) # in seconds"
   ]
  },
  {
   "cell_type": "code",
   "execution_count": 20,
   "id": "be2b9eb6-af57-49fc-bac2-67e77fd49bab",
   "metadata": {},
   "outputs": [
    {
     "name": "stdout",
     "output_type": "stream",
     "text": [
      "55.49017548561096\n"
     ]
    }
   ],
   "source": [
    "start_time = time.time()\n",
    "\n",
    "fitRHOSYM740Bi=[]\n",
    "fitRHOASYM740Bi=[]\n",
    "fitRESYM740Bi=[]\n",
    "fitREASYM740Bi=[]\n",
    "\n",
    "for i in range(len(temparray)):\n",
    "    fitrhosym=[]\n",
    "    fitresym=[]\n",
    "    fitrhoasym=[]\n",
    "    fitreasym=[]\n",
    "    for j in range(k1*k2):\n",
    "        coeff=coeffRHOSYM740Bi[i][j]\n",
    "        \n",
    "        fitrhosym.append(p10(x, *coeff).tolist())\n",
    "        coeff=coeffRESYM740Bi[i][j]\n",
    "        \n",
    "        fitresym.append(pwithe(x, *coeff).tolist())\n",
    "        coeff=coeffRHOASYM740Bi[i][j]\n",
    "        fitrhoasym.append(p9(x, *coeff).tolist())\n",
    "        \n",
    "        coeff=coeffREASYM740Bi[i][j]\n",
    "        fitreasym.append(p9(x, *coeff).tolist())\n",
    "        \n",
    "    fitRHOSYM740Bi.append(fitrhosym)\n",
    "    fitRHOASYM740Bi.append(fitrhoasym)\n",
    "    fitRESYM740Bi.append(fitresym)\n",
    "    fitREASYM740Bi.append(fitreasym)\n",
    "    \n",
    "end_time = time.time()\n",
    "elapsed_time = end_time - start_time\n",
    "print(elapsed_time) # in seconds"
   ]
  },
  {
   "cell_type": "code",
   "execution_count": 21,
   "id": "1db7b7ce-f340-4e68-9673-073db3f33703",
   "metadata": {},
   "outputs": [
    {
     "name": "stdout",
     "output_type": "stream",
     "text": [
      "76.2281985282898\n"
     ]
    }
   ],
   "source": [
    "start_time = time.time()\n",
    "\n",
    "fitRHOSYM770Bi=[]\n",
    "fitRHOASYM770Bi=[]\n",
    "fitRESYM770Bi=[]\n",
    "fitREASYM770Bi=[]\n",
    "\n",
    "for i in range(len(temparray)):\n",
    "    fitrhosym=[]\n",
    "    fitresym=[]\n",
    "    fitrhoasym=[]\n",
    "    fitreasym=[]\n",
    "    for j in range(k1*k2):\n",
    "        coeff=coeffRHOSYM770Bi[i][j]\n",
    "        \n",
    "        fitrhosym.append(p10(x, *coeff).tolist())\n",
    "        coeff=coeffRESYM770Bi[i][j]\n",
    "        \n",
    "        fitresym.append(pwithe(x, *coeff).tolist())\n",
    "        coeff=coeffRHOASYM770Bi[i][j]\n",
    "        fitrhoasym.append(p9(x, *coeff).tolist())\n",
    "        \n",
    "        coeff=coeffREASYM770Bi[i][j]\n",
    "        fitreasym.append(p9(x, *coeff).tolist())\n",
    "        \n",
    "    fitRHOSYM770Bi.append(fitrhosym)\n",
    "    fitRHOASYM770Bi.append(fitrhoasym)\n",
    "    fitRESYM770Bi.append(fitresym)\n",
    "    fitREASYM770Bi.append(fitreasym)\n",
    "    \n",
    "end_time = time.time()\n",
    "elapsed_time = end_time - start_time\n",
    "print(elapsed_time) # in seconds"
   ]
  },
  {
   "cell_type": "code",
   "execution_count": 22,
   "id": "0cfcfd27-5e19-4e65-b6b9-345065c4db7e",
   "metadata": {},
   "outputs": [
    {
     "name": "stdout",
     "output_type": "stream",
     "text": [
      "58.205320835113525\n"
     ]
    }
   ],
   "source": [
    "start_time = time.time()\n",
    "\n",
    "fitRHOSYM800Bi=[]\n",
    "fitRHOASYM800Bi=[]\n",
    "fitRESYM800Bi=[]\n",
    "fitREASYM800Bi=[]\n",
    "\n",
    "for i in range(len(temparray)):\n",
    "    fitrhosym=[]\n",
    "    fitresym=[]\n",
    "    fitrhoasym=[]\n",
    "    fitreasym=[]\n",
    "    for j in range(k1*k2):\n",
    "        coeff=coeffRHOSYM800Bi[i][j]\n",
    "        \n",
    "        fitrhosym.append(p10(x, *coeff).tolist())\n",
    "        coeff=coeffRESYM800Bi[i][j]\n",
    "        \n",
    "        fitresym.append(pwithe(x, *coeff).tolist())\n",
    "        coeff=coeffRHOASYM800Bi[i][j]\n",
    "        fitrhoasym.append(p9(x, *coeff).tolist())\n",
    "        \n",
    "        coeff=coeffREASYM800Bi[i][j]\n",
    "        fitreasym.append(p9(x, *coeff).tolist())\n",
    "        \n",
    "    fitRHOSYM800Bi.append(fitrhosym)\n",
    "    fitRHOASYM800Bi.append(fitrhoasym)\n",
    "    fitRESYM800Bi.append(fitresym)\n",
    "    fitREASYM800Bi.append(fitreasym)\n",
    "    \n",
    "end_time = time.time()\n",
    "elapsed_time = end_time - start_time\n",
    "print(elapsed_time) # in seconds"
   ]
  },
  {
   "cell_type": "code",
   "execution_count": 23,
   "id": "2d76641d-9b1f-4053-ac4e-77511c7ef8bb",
   "metadata": {},
   "outputs": [
    {
     "name": "stdout",
     "output_type": "stream",
     "text": [
      "155.26099514961243\n"
     ]
    }
   ],
   "source": [
    "start_time = time.time()\n",
    "\n",
    "fitRHOSYM830Bi=[]\n",
    "fitRHOASYM830Bi=[]\n",
    "fitRESYM830Bi=[]\n",
    "fitREASYM830Bi=[]\n",
    "\n",
    "for i in range(len(temparray)):\n",
    "    fitrhosym=[]\n",
    "    fitresym=[]\n",
    "    fitrhoasym=[]\n",
    "    fitreasym=[]\n",
    "    for j in range(k1*k2):\n",
    "        coeff=coeffRHOSYM830Bi[i][j]\n",
    "        \n",
    "        fitrhosym.append(p10(x, *coeff).tolist())\n",
    "        coeff=coeffRESYM830Bi[i][j]\n",
    "        \n",
    "        fitresym.append(pwithe(x, *coeff).tolist())\n",
    "        coeff=coeffRHOASYM830Bi[i][j]\n",
    "        fitrhoasym.append(p9(x, *coeff).tolist())\n",
    "        \n",
    "        coeff=coeffREASYM830Bi[i][j]\n",
    "        fitreasym.append(p9(x, *coeff).tolist())\n",
    "        \n",
    "    fitRHOSYM830Bi.append(fitrhosym)\n",
    "    fitRHOASYM830Bi.append(fitrhoasym)\n",
    "    fitRESYM830Bi.append(fitresym)\n",
    "    fitREASYM830Bi.append(fitreasym)\n",
    "    \n",
    "end_time = time.time()\n",
    "elapsed_time = end_time - start_time\n",
    "print(elapsed_time) # in seconds"
   ]
  },
  {
   "cell_type": "code",
   "execution_count": 24,
   "id": "81ef2d82-37ce-41f5-942d-4ed6dc8e6d52",
   "metadata": {},
   "outputs": [
    {
     "name": "stdout",
     "output_type": "stream",
     "text": [
      "181.8201298713684\n"
     ]
    }
   ],
   "source": [
    "start_time = time.time()\n",
    "\n",
    "fitRHOSYM860Bi=[]\n",
    "fitRHOASYM860Bi=[]\n",
    "fitRESYM860Bi=[]\n",
    "fitREASYM860Bi=[]\n",
    "\n",
    "for i in range(len(temparray)):\n",
    "    fitrhosym=[]\n",
    "    fitresym=[]\n",
    "    fitrhoasym=[]\n",
    "    fitreasym=[]\n",
    "    for j in range(k1*k2):\n",
    "        coeff=coeffRHOSYM860Bi[i][j]\n",
    "        \n",
    "        fitrhosym.append(p10(x, *coeff).tolist())\n",
    "        coeff=coeffRESYM860Bi[i][j]\n",
    "        \n",
    "        fitresym.append(pwithe(x, *coeff).tolist())\n",
    "        coeff=coeffRHOASYM860Bi[i][j]\n",
    "        fitrhoasym.append(p9(x, *coeff).tolist())\n",
    "        \n",
    "        coeff=coeffREASYM860Bi[i][j]\n",
    "        fitreasym.append(p9(x, *coeff).tolist())\n",
    "        \n",
    "    fitRHOSYM860Bi.append(fitrhosym)\n",
    "    fitRHOASYM860Bi.append(fitrhoasym)\n",
    "    fitRESYM860Bi.append(fitresym)\n",
    "    fitREASYM860Bi.append(fitreasym)\n",
    "    \n",
    "end_time = time.time()\n",
    "elapsed_time = end_time - start_time\n",
    "print(elapsed_time) # in seconds"
   ]
  },
  {
   "cell_type": "markdown",
   "id": "ff07cf2c-449d-471e-b428-95ee8bd8dc54",
   "metadata": {},
   "source": [
    "\n",
    "\n",
    "VARIOUS FUNCTIONS AND COMPONENTS FOR RECONSTRUCTING SPECTRAL FUNCTIONS, RESISTIVITY:"
   ]
  },
  {
   "cell_type": "code",
   "execution_count": 26,
   "id": "82e982db-790c-497d-9343-5a20cac11607",
   "metadata": {},
   "outputs": [],
   "source": [
    "def bandenergy(x, y, tp, tpp):\n",
    "    return (-2*np.cos(x)-2*np.cos(y)-4*tp*np.cos(x)*np.cos(y)-2*tpp*(np.cos(2*x)+np.cos(2*y)))\n",
    "\n",
    "bandenergyvec=np.vectorize(bandenergy)"
   ]
  },
  {
   "cell_type": "code",
   "execution_count": 27,
   "id": "d3a5ec13-27bf-4ad2-ba7c-70a9e0ed0867",
   "metadata": {},
   "outputs": [],
   "source": [
    "bande=bandenergyvec(k1new,k2new,tp,tpp)\n",
    "ve=omeganew-bande\n",
    "veflat=np.concatenate(ve)"
   ]
  },
  {
   "cell_type": "code",
   "execution_count": 28,
   "id": "0a838c35-59bc-4ec9-b34e-7835390823bc",
   "metadata": {},
   "outputs": [],
   "source": [
    "def depskx(kx,ky): \n",
    "    return 2*t*np.sin(kx) + 4*tp*np.sin(kx)*np.cos(ky) + 4*tpp*np.sin(2*kx)\n",
    "\n",
    "ux = 1.0\n",
    "uy = 0.0\n",
    "\n",
    "def dF(x, tau): #derivative_Fermi_function_over_beta(x, tau):\n",
    "    if x/tau <= -20.0:\n",
    "        return 0.0;\n",
    "    elif x/tau >= 20.0:\n",
    "        return 0.0\n",
    "    else:\n",
    "        return -1.0/ (2.0 * np.cosh(x / (2.0 * tau)))**2\n",
    "    \n",
    "dFvec=np.vectorize(dF)\n",
    "depsvec=np.vectorize(depskx)"
   ]
  },
  {
   "cell_type": "code",
   "execution_count": 29,
   "id": "2a435d05-a272-4549-b9c7-8d4519d618fa",
   "metadata": {},
   "outputs": [],
   "source": [
    "def flatten(matrix):\n",
    "    flat_list = []\n",
    "    for row in matrix:\n",
    "        flat_list += row\n",
    "    return flat_list"
   ]
  },
  {
   "cell_type": "code",
   "execution_count": 30,
   "id": "c0352209-d284-43e1-ac27-6391c34616ab",
   "metadata": {},
   "outputs": [],
   "source": [
    "flatRHOSYM680Bi=[]\n",
    "flatRESYM680Bi=[]\n",
    "flatRHOASYM680Bi=[]\n",
    "flatREASYM680Bi=[]\n",
    "for i in range(len(temparray)):\n",
    "    flatRHOSYM680Bi.append(flatten(fitRHOSYM680Bi[i]))\n",
    "    flatRHOASYM680Bi.append(flatten(fitRHOASYM680Bi[i]))\n",
    "    flatRESYM680Bi.append(flatten(fitRESYM680Bi[i]))\n",
    "    flatREASYM680Bi.append(flatten(fitREASYM680Bi[i]))\n",
    "\n",
    "flatRHOSYM710Bi=[]\n",
    "flatRESYM710Bi=[]\n",
    "flatRHOASYM710Bi=[]\n",
    "flatREASYM710Bi=[]\n",
    "for i in range(len(temparray)):\n",
    "    flatRHOSYM710Bi.append(flatten(fitRHOSYM710Bi[i]))\n",
    "    flatRHOASYM710Bi.append(flatten(fitRHOASYM710Bi[i]))\n",
    "    flatRESYM710Bi.append(flatten(fitRESYM710Bi[i]))\n",
    "    flatREASYM710Bi.append(flatten(fitREASYM710Bi[i]))\n",
    "\n",
    "flatRHOSYM740Bi=[]\n",
    "flatRESYM740Bi=[]\n",
    "flatRHOASYM740Bi=[]\n",
    "flatREASYM740Bi=[]\n",
    "for i in range(len(temparray)):\n",
    "    flatRHOSYM740Bi.append(flatten(fitRHOSYM740Bi[i]))\n",
    "    flatRHOASYM740Bi.append(flatten(fitRHOASYM740Bi[i]))\n",
    "    flatRESYM740Bi.append(flatten(fitRESYM740Bi[i]))\n",
    "    flatREASYM740Bi.append(flatten(fitREASYM740Bi[i]))\n",
    "\n",
    "flatRHOSYM770Bi=[]\n",
    "flatRESYM770Bi=[]\n",
    "flatRHOASYM770Bi=[]\n",
    "flatREASYM770Bi=[]\n",
    "for i in range(len(temparray)):\n",
    "    flatRHOSYM770Bi.append(flatten(fitRHOSYM770Bi[i]))\n",
    "    flatRHOASYM770Bi.append(flatten(fitRHOASYM770Bi[i]))\n",
    "    flatRESYM770Bi.append(flatten(fitRESYM770Bi[i]))\n",
    "    flatREASYM770Bi.append(flatten(fitREASYM770Bi[i]))\n",
    "\n",
    "flatRHOSYM800Bi=[]\n",
    "flatRESYM800Bi=[]\n",
    "flatRHOASYM800Bi=[]\n",
    "flatREASYM800Bi=[]\n",
    "for i in range(len(temparray)):\n",
    "    flatRHOSYM800Bi.append(flatten(fitRHOSYM800Bi[i]))\n",
    "    flatRHOASYM800Bi.append(flatten(fitRHOASYM800Bi[i]))\n",
    "    flatRESYM800Bi.append(flatten(fitRESYM800Bi[i]))\n",
    "    flatREASYM800Bi.append(flatten(fitREASYM800Bi[i]))\n",
    "\n",
    "flatRHOSYM830Bi=[]\n",
    "flatRESYM830Bi=[]\n",
    "flatRHOASYM830Bi=[]\n",
    "flatREASYM830Bi=[]\n",
    "for i in range(len(temparray)):\n",
    "    flatRHOSYM830Bi.append(flatten(fitRHOSYM830Bi[i]))\n",
    "    flatRHOASYM830Bi.append(flatten(fitRHOASYM830Bi[i]))\n",
    "    flatRESYM830Bi.append(flatten(fitRESYM830Bi[i]))\n",
    "    flatREASYM830Bi.append(flatten(fitREASYM830Bi[i]))    \n",
    "    \n",
    "flatRHOSYM860Bi=[]\n",
    "flatRESYM860Bi=[]\n",
    "flatRHOASYM860Bi=[]\n",
    "flatREASYM860Bi=[]\n",
    "for i in range(len(temparray)):\n",
    "    flatRHOSYM860Bi.append(flatten(fitRHOSYM860Bi[i]))\n",
    "    flatRHOASYM860Bi.append(flatten(fitRHOASYM860Bi[i]))\n",
    "    flatRESYM860Bi.append(flatten(fitRESYM860Bi[i]))\n",
    "    flatREASYM860Bi.append(flatten(fitREASYM860Bi[i]))    "
   ]
  },
  {
   "cell_type": "markdown",
   "id": "cdf51e94-5cab-4e90-adba-16ae801ffc28",
   "metadata": {},
   "source": [
    "\n",
    "\n",
    "SPECTRAL FUNCTIONS ρG:"
   ]
  },
  {
   "cell_type": "code",
   "execution_count": 32,
   "id": "b3d182d6-81fd-4477-b1cf-ded62d2fe2be",
   "metadata": {},
   "outputs": [
    {
     "name": "stdout",
     "output_type": "stream",
     "text": [
      "8.907438278198242\n"
     ]
    }
   ],
   "source": [
    "start_time = time.time()\n",
    "\n",
    "RHOG680Bi=[]\n",
    "for i in range(len(temparray)):\n",
    "    refcn=np.add(np.add(flatREASYM680Bi[i],flatRESYM680Bi[i]),np.repeat(y0RE680Bi[i],len(ve[0])))\n",
    "    rhfcn=np.add(np.add(flatRHOASYM680Bi[i],flatRHOSYM680Bi[i]),np.repeat(y0RHO680Bi[i],len(ve[0])))\n",
    "    denom=np.add(np.add(np.add(np.power(refcn,2),np.power(np.pi*rhfcn,2)), -2*np.multiply(refcn,veflat+mu680Bi[i][0][0])),np.power(veflat+mu680Bi[i][0][0],2))\n",
    "    rhoG=np.divide(rhfcn, denom)\n",
    "    RHOG680Bi.append(rhoG)\n",
    "\n",
    "end_time = time.time()\n",
    "elapsed_time = end_time - start_time\n",
    "print(elapsed_time) # in seconds"
   ]
  },
  {
   "cell_type": "code",
   "execution_count": 33,
   "id": "78eb3e18-3296-4904-bf97-e2fd757dc7bd",
   "metadata": {},
   "outputs": [],
   "source": [
    "RHOG710Bi=[]\n",
    "for i in range(len(temparray)):\n",
    "    refcn=np.add(np.add(flatREASYM710Bi[i],flatRESYM710Bi[i]),np.repeat(y0RE710Bi[i],len(ve[0])))\n",
    "    rhfcn=np.add(np.add(flatRHOASYM710Bi[i],flatRHOSYM710Bi[i]),np.repeat(y0RHO710Bi[i],len(ve[0])))\n",
    "    denom=np.add(np.add(np.add(np.power(refcn,2),np.power(np.pi*rhfcn,2)), -2*np.multiply(refcn,veflat+mu710Bi[i][0][0])),np.power(veflat+mu710Bi[i][0][0],2))\n",
    "    rhoG=np.divide(rhfcn, denom)\n",
    "    RHOG710Bi.append(rhoG)"
   ]
  },
  {
   "cell_type": "code",
   "execution_count": 34,
   "id": "cecdecad-8a88-4228-ad57-af2465a705e0",
   "metadata": {},
   "outputs": [],
   "source": [
    "RHOG740Bi=[]\n",
    "for i in range(len(temparray)):\n",
    "    refcn=np.add(np.add(flatREASYM740Bi[i],flatRESYM740Bi[i]),np.repeat(y0RE740Bi[i],len(ve[0])))\n",
    "    rhfcn=np.add(np.add(flatRHOASYM740Bi[i],flatRHOSYM740Bi[i]),np.repeat(y0RHO740Bi[i],len(ve[0])))\n",
    "    denom=np.add(np.add(np.add(np.power(refcn,2),np.power(np.pi*rhfcn,2)), -2*np.multiply(refcn,veflat+mu740Bi[i][0][0])),np.power(veflat+mu740Bi[i][0][0],2))\n",
    "    rhoG=np.divide(rhfcn, denom)\n",
    "    RHOG740Bi.append(rhoG)"
   ]
  },
  {
   "cell_type": "code",
   "execution_count": 35,
   "id": "effa76e6-b9ca-49c3-a980-fe850c130c83",
   "metadata": {},
   "outputs": [],
   "source": [
    "RHOG770Bi=[]\n",
    "for i in range(len(temparray)):\n",
    "    refcn=np.add(np.add(flatREASYM770Bi[i],flatRESYM770Bi[i]),np.repeat(y0RE770Bi[i],len(ve[0])))\n",
    "    rhfcn=np.add(np.add(flatRHOASYM770Bi[i],flatRHOSYM770Bi[i]),np.repeat(y0RHO770Bi[i],len(ve[0])))\n",
    "    denom=np.add(np.add(np.add(np.power(refcn,2),np.power(np.pi*rhfcn,2)), -2*np.multiply(refcn,veflat+mu770Bi[i][0][0])),np.power(veflat+mu770Bi[i][0][0],2))\n",
    "    rhoG=np.divide(rhfcn, denom)\n",
    "    RHOG770Bi.append(rhoG)"
   ]
  },
  {
   "cell_type": "code",
   "execution_count": 36,
   "id": "bece91cc-4fb8-44d6-b43c-e206c439c03d",
   "metadata": {},
   "outputs": [],
   "source": [
    "RHOG800Bi=[]\n",
    "for i in range(len(temparray)):\n",
    "    refcn=np.add(np.add(flatREASYM800Bi[i],flatRESYM800Bi[i]),np.repeat(y0RE800Bi[i],len(ve[0])))\n",
    "    rhfcn=np.add(np.add(flatRHOASYM800Bi[i],flatRHOSYM800Bi[i]),np.repeat(y0RHO800Bi[i],len(ve[0])))\n",
    "    denom=np.add(np.add(np.add(np.power(refcn,2),np.power(np.pi*rhfcn,2)), -2*np.multiply(refcn,veflat+mu800Bi[i][0][0])),np.power(veflat+mu800Bi[i][0][0],2))\n",
    "    rhoG=np.divide(rhfcn, denom)\n",
    "    RHOG800Bi.append(rhoG)"
   ]
  },
  {
   "cell_type": "code",
   "execution_count": 91,
   "id": "27911c2d-0632-4818-a3e1-96fb16fa918f",
   "metadata": {},
   "outputs": [],
   "source": [
    "RHOG830Bi=[]\n",
    "for i in range(len(temparray)):\n",
    "    refcn=np.add(np.add(flatREASYM830Bi[i],flatRESYM830Bi[i]),np.repeat(y0RE830Bi[i],len(ve[0])))\n",
    "    rhfcn=np.add(np.add(flatRHOASYM830Bi[i],flatRHOSYM830Bi[i]),np.repeat(y0RHO830Bi[i],len(ve[0])))\n",
    "    denom=np.add(np.add(np.add(np.power(refcn,2),np.power(np.pi*rhfcn,2)), -2*np.multiply(refcn,veflat+mu830Bi[i][0][0])),np.power(veflat+mu830Bi[i][0][0],2))\n",
    "    rhoG=np.divide(rhfcn, denom)\n",
    "    RHOG830Bi.append(rhoG)"
   ]
  },
  {
   "cell_type": "code",
   "execution_count": 51,
   "id": "5da0a4af-e937-4452-82fd-5c344f247ee0",
   "metadata": {},
   "outputs": [],
   "source": [
    "RHOG860Bi=[]\n",
    "for i in range(len(temparray)):\n",
    "    refcn=np.add(np.add(flatREASYM860Bi[i],flatRESYM860Bi[i]),np.repeat(y0RE860Bi[i],len(ve[0])))\n",
    "    rhfcn=np.add(np.add(flatRHOASYM860Bi[i],flatRHOSYM860Bi[i]),np.repeat(y0RHO860Bi[i],len(ve[0])))\n",
    "    denom=np.add(np.add(np.add(np.power(refcn,2),np.power(np.pi*rhfcn,2)), -2*np.multiply(refcn,veflat+mu860Bi[i][0][0])),np.power(veflat+mu860Bi[i][0][0],2))\n",
    "    rhoG=np.divide(rhfcn, denom)\n",
    "    RHOG860Bi.append(rhoG)"
   ]
  },
  {
   "cell_type": "code",
   "execution_count": 52,
   "id": "fde07bc2-270b-4a9d-b926-8cd37b2bb9e9",
   "metadata": {},
   "outputs": [],
   "source": [
    "omegaflat=flatten(omeganew)\n",
    "k1flat=flatten(k1new)\n",
    "k2flat=flatten(k2new)"
   ]
  },
  {
   "cell_type": "markdown",
   "id": "4ea4a87c-e77b-473b-b367-e519ad48bc7a",
   "metadata": {},
   "source": [
    "\n",
    "\n",
    "RESISTIVITY FROM SPECTRAL FUNCTIONS:"
   ]
  },
  {
   "cell_type": "code",
   "execution_count": 54,
   "id": "6cc28257-8ec6-4085-a415-f0b8d7b76292",
   "metadata": {},
   "outputs": [
    {
     "name": "stdout",
     "output_type": "stream",
     "text": [
      "119.97149634361267\n"
     ]
    }
   ],
   "source": [
    "start_time = time.time()\n",
    "\n",
    "sigxx680Bi=[]\n",
    "for i in range(len(temparray)):\n",
    "    tau=temparray[i]\n",
    "    sigarr=np.multiply(np.multiply(-dFvec(omegaflat,tau),np.power(RHOG680Bi[i],2)),np.power(depsvec(k1flat,k2flat),2))\n",
    "    sigxxpart=sigarr.sum()\n",
    "    DELTAomega=finalv[2]-finalv[1] # original spacing gets rid of the 0.04 and scales omega back\n",
    "    sigxxfit=sigxxpart*((2*np.pi)**2) * DELTAomega / (tau * k1 * k2)\n",
    "    sigxx680Bi.append(sigxxfit)\n",
    "rhoxx680Bi=np.divide(1,sigxx680Bi)\n",
    "\n",
    "end_time = time.time()\n",
    "elapsed_time = end_time - start_time\n",
    "print(elapsed_time) # in seconds"
   ]
  },
  {
   "cell_type": "code",
   "execution_count": 55,
   "id": "10a574f3-adad-48b7-a363-76a40e3f5f74",
   "metadata": {},
   "outputs": [],
   "source": [
    "sigxx710Bi=[]\n",
    "for i in range(len(temparray)):\n",
    "    tau=temparray[i]\n",
    "    sigarr=np.multiply(np.multiply(-dFvec(omegaflat,tau),np.power(RHOG710Bi[i],2)),np.power(depsvec(k1flat,k2flat),2))\n",
    "    sigxxpart=sigarr.sum()\n",
    "    DELTAomega=finalv[2]-finalv[1]  \n",
    "    sigxxfit=sigxxpart*((2*np.pi)**2) * DELTAomega / (tau * k1 * k2)\n",
    "    sigxx710Bi.append(sigxxfit)\n",
    "rhoxx710Bi=np.divide(1,sigxx710Bi)"
   ]
  },
  {
   "cell_type": "code",
   "execution_count": 56,
   "id": "e3ae1a07-1ac8-4970-84c4-c970cddf8c74",
   "metadata": {},
   "outputs": [],
   "source": [
    "sigxx740Bi=[]\n",
    "for i in range(len(temparray)):\n",
    "    tau=temparray[i]\n",
    "    sigarr=np.multiply(np.multiply(-dFvec(omegaflat,tau),np.power(RHOG740Bi[i],2)),np.power(depsvec(k1flat,k2flat),2))\n",
    "    sigxxpart=sigarr.sum()\n",
    "    DELTAomega=finalv[2]-finalv[1]  \n",
    "    sigxxfit=sigxxpart*((2*np.pi)**2) * DELTAomega / (tau * k1 * k2)\n",
    "    sigxx740Bi.append(sigxxfit)\n",
    "rhoxx740Bi=np.divide(1,sigxx740Bi)"
   ]
  },
  {
   "cell_type": "code",
   "execution_count": 57,
   "id": "3afc4d01-ea7e-4937-a417-94eec6c0e3c6",
   "metadata": {},
   "outputs": [],
   "source": [
    "sigxx770Bi=[]\n",
    "for i in range(len(temparray)):\n",
    "    tau=temparray[i]\n",
    "    sigarr=np.multiply(np.multiply(-dFvec(omegaflat,tau),np.power(RHOG770Bi[i],2)),np.power(depsvec(k1flat,k2flat),2))\n",
    "    sigxxpart=sigarr.sum()\n",
    "    DELTAomega=finalv[2]-finalv[1]  \n",
    "    sigxxfit=sigxxpart*((2*np.pi)**2) * DELTAomega / (tau * k1 * k2)\n",
    "    sigxx770Bi.append(sigxxfit)\n",
    "rhoxx770Bi=np.divide(1,sigxx770Bi)"
   ]
  },
  {
   "cell_type": "code",
   "execution_count": 58,
   "id": "45fcf82d-4e3d-43d3-ba18-1afdae2dee38",
   "metadata": {},
   "outputs": [],
   "source": [
    "sigxx800Bi=[]\n",
    "for i in range(len(temparray)):\n",
    "    tau=temparray[i]\n",
    "    sigarr=np.multiply(np.multiply(-dFvec(omegaflat,tau),np.power(RHOG800Bi[i],2)),np.power(depsvec(k1flat,k2flat),2))\n",
    "    sigxxpart=sigarr.sum()\n",
    "    DELTAomega=finalv[2]-finalv[1]  \n",
    "    sigxxfit=sigxxpart*((2*np.pi)**2) * DELTAomega / (tau * k1 * k2)\n",
    "    sigxx800Bi.append(sigxxfit)\n",
    "rhoxx800Bi=np.divide(1,sigxx800Bi)"
   ]
  },
  {
   "cell_type": "code",
   "execution_count": 92,
   "id": "4fdb1cd6-d627-46e6-b840-c4138cd70e7d",
   "metadata": {},
   "outputs": [],
   "source": [
    "sigxx830Bi=[]\n",
    "for i in range(len(temparray)):\n",
    "    tau=temparray[i]\n",
    "    sigarr=np.multiply(np.multiply(-dFvec(omegaflat,tau),np.power(RHOG830Bi[i],2)),np.power(depsvec(k1flat,k2flat),2))\n",
    "    sigxxpart=sigarr.sum()\n",
    "    DELTAomega=finalv[2]-finalv[1]  \n",
    "    sigxxfit=sigxxpart*((2*np.pi)**2) * DELTAomega / (tau * k1 * k2)\n",
    "    sigxx830Bi.append(sigxxfit)\n",
    "rhoxx830Bi=np.divide(1,sigxx830Bi)"
   ]
  },
  {
   "cell_type": "code",
   "execution_count": 60,
   "id": "c3d5ef71-aef0-4652-828b-c88d7c014a34",
   "metadata": {},
   "outputs": [],
   "source": [
    "sigxx860Bi=[]\n",
    "for i in range(len(temparray)):\n",
    "    tau=temparray[i]\n",
    "    sigarr=np.multiply(np.multiply(-dFvec(omegaflat,tau),np.power(RHOG860Bi[i],2)),np.power(depsvec(k1flat,k2flat),2))\n",
    "    sigxxpart=sigarr.sum()\n",
    "    DELTAomega=finalv[2]-finalv[1]  \n",
    "    sigxxfit=sigxxpart*((2*np.pi)**2) * DELTAomega / (tau * k1 * k2)\n",
    "    sigxx860Bi.append(sigxxfit)\n",
    "rhoxx860Bi=np.divide(1,sigxx860Bi)"
   ]
  },
  {
   "cell_type": "markdown",
   "id": "5e8106e3-9a0d-45b2-8be0-cfcd07a9c1a0",
   "metadata": {},
   "source": [
    "\n",
    "\n",
    "EXAMPLE PLOTS:"
   ]
  },
  {
   "cell_type": "code",
   "execution_count": 62,
   "id": "e3687e78-240e-4282-9a66-a96f3e7b4ff7",
   "metadata": {},
   "outputs": [
    {
     "data": {
      "image/png": "[encoded data removed]",
      "text/plain": [
       "<Figure size 640x480 with 1 Axes>"
      ]
     },
     "metadata": {},
     "output_type": "display_data"
    }
   ],
   "source": [
    "# spectral function data for the first (kx, ky) value (0, 0) in the n=0.710 data\n",
    "# data is displayed with an interpolation\n",
    "\n",
    "# first index in RHOG710Bi is temperature, inside that is a list of 92x92 sequential 43 point spectral functions\n",
    "# The first of these, at kx=0 and ky=0, is shown below\n",
    "# To find the kx and ky value for a point in RHOG710Bi you can check the same index in k1flat, k2flat\n",
    "\n",
    "spl=interpolate.InterpolatedUnivariateSpline(omeganew[0],RHOG710Bi[0][0:43])\n",
    "omega=np.linspace(omeganew[0][0],omeganew[0][-1],500)\n",
    "plt.plot(omega,spl(omega))\n",
    "plt.plot(omeganew[0],RHOG710Bi[0][0:43],'o')\n",
    "plt.title(\"ρG (kx=ky=0)\")\n",
    "plt.xlabel(\"ω\")\n",
    "plt.show()"
   ]
  },
  {
   "cell_type": "code",
   "execution_count": 63,
   "id": "b4431c05-4989-4555-b713-bd0d08bce48a",
   "metadata": {
    "scrolled": true
   },
   "outputs": [
    {
     "data": {
      "image/png": "[encoded data removed]",
      "text/plain": [
       "<Figure size 640x480 with 1 Axes>"
      ]
     },
     "metadata": {},
     "output_type": "display_data"
    }
   ],
   "source": [
    "# one of the resistivity plots\n",
    "# this is in dimensionless units, units we used can be found in the paper\n",
    "\n",
    "plt.plot(temparray,rhoxx710Bi,'o')\n",
    "plt.title(\"Polynomial Reproduction of Resistivity, n=0.710\")\n",
    "plt.ylabel(\"ρ\")\n",
    "plt.xlabel(\"T\")\n",
    "plt.show()"
   ]
  },
  {
   "cell_type": "markdown",
   "id": "9dae994b-1783-40b2-b3c5-f4ca345b676e",
   "metadata": {},
   "source": [
    "INTERPOLATION"
   ]
  },
  {
   "cell_type": "code",
   "execution_count": 98,
   "id": "21c048d4-7de5-46fc-90fa-43888395add1",
   "metadata": {},
   "outputs": [],
   "source": [
    "# an easy way to estimate resistivities at new densities from our results:\n",
    "\n",
    "rhoarr=[rhoxx680Bi,rhoxx710Bi,rhoxx740Bi,rhoxx770Bi,rhoxx800Bi,rhoxx830Bi,rhoxx860Bi]\n",
    "rhoarr=[rho.tolist() for rho in rhoarr]\n",
    "densities=[0.680,0.710,0.740,0.770,0.800,0.830,0.860];\n",
    "\n",
    "tvals=np.tile(temparray,len(densities))\n",
    "nvals=np.repeat(densities,len(temparray))\n",
    "rhovals=flatten(rhoarr)\n",
    "\n",
    "X = np.linspace(min(tvals), max(tvals))\n",
    "Y = np.linspace(min(nvals), max(nvals))\n",
    "X, Y = np.meshgrid(X,Y)\n",
    "interp = interpolate.LinearNDInterpolator(list(zip(tvals, nvals)), rhovals)\n",
    "Z = interp(X, Y)"
   ]
  },
  {
   "cell_type": "code",
   "execution_count": 100,
   "id": "0d6bb6a2-85d7-4e75-945f-5e416316e29d",
   "metadata": {},
   "outputs": [
    {
     "data": {
      "image/png": "[encoded data removed]",
      "text/plain": [
       "<Figure size 640x480 with 1 Axes>"
      ]
     },
     "metadata": {},
     "output_type": "display_data"
    }
   ],
   "source": [
    "# demonstrating interpolation:\n",
    "\n",
    "density=0.81\n",
    "\n",
    "plt.plot(temparray,interp(temparray,density),'k-')\n",
    "plt.title(\"Resistivity Interpolation at n = %1.3f\" % density)\n",
    "plt.ylabel(\"ρ\")\n",
    "plt.xlabel(\"T\")\n",
    "plt.show()"
   ]
  },
  {
   "cell_type": "code",
   "execution_count": null,
   "id": "7d6dbd60-af8b-485c-b407-793a4ab9ad9a",
   "metadata": {},
   "outputs": [],
   "source": []
  }
 ],
 "metadata": {
  "kernelspec": {
   "display_name": "Python [conda env:base] *",
   "language": "python",
   "name": "conda-base-py"
  },
  "language_info": {
   "codemirror_mode": {
    "name": "ipython",
    "version": 3
   },
   "file_extension": ".py",
   "mimetype": "text/x-python",
   "name": "python",
   "nbconvert_exporter": "python",
   "pygments_lexer": "ipython3",
   "version": "3.9.20"
  }
 },
 "nbformat": 4,
 "nbformat_minor": 5
}
